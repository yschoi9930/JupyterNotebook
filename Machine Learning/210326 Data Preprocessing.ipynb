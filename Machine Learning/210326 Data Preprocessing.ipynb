{
 "cells": [
  {
   "cell_type": "markdown",
   "metadata": {},
   "source": [
    "# 데이터 전처리 종류\n",
    "\n",
    "- 데이터 클리닝(결측치, 틀린값 처리)\n",
    "- 스케일링\n",
    "- 이상치처리\n",
    "- 데이터 변환"
   ]
  },
  {
   "cell_type": "markdown",
   "metadata": {},
   "source": [
    "## 데이터 클리닝\n",
    "### 결측치 처리(틀린 값 처리도 동일)\n",
    "- 값이 비어있는 것(nan)을 의미\n",
    "- 처리하는 세가지 방법\n",
    "    - 결측치가 포함된 샘플(행)을 버린다\n",
    "    - 결측치를 적절한 값으로 대체한다(평균 or 0 )\n",
    "    - 결측치 처리를 다음 분석 단계로 넘긴다. 즉 그대로 둔다\n",
    " \n",
    " "
   ]
  },
  {
   "cell_type": "code",
   "execution_count": 60,
   "metadata": {
    "ExecuteTime": {
     "end_time": "2021-03-26T01:47:53.943277Z",
     "start_time": "2021-03-26T01:47:53.937317Z"
    }
   },
   "outputs": [],
   "source": [
    "import numpy as np\n",
    "import pandas as pd\n",
    "%matplotlib inline"
   ]
  },
  {
   "cell_type": "code",
   "execution_count": 61,
   "metadata": {
    "ExecuteTime": {
     "end_time": "2021-03-26T01:48:08.834660Z",
     "start_time": "2021-03-26T01:48:08.826688Z"
    }
   },
   "outputs": [],
   "source": [
    "import seaborn as sns\n",
    "import matplotlib.pyplot as plt\n",
    "# 그래프 한글 처리하는 코드\n",
    "import platform\n",
    "\n",
    "from matplotlib import font_manager, rc\n",
    "plt.rcParams['axes.unicode_minus'] = False\n",
    "\n",
    "if platform.system() == 'Darwin':  # 맥OS \n",
    "    rc('font', family='AppleGothic')\n",
    "elif platform.system() == 'Windows': \n",
    "    # 윈도우   \n",
    "    path = \"c:/Windows/Fonts/malgun.ttf\"\n",
    "    font_name = font_manager.FontProperties(fname=path).get_name()\n",
    "    rc('font', family=font_name)\n",
    "else:\n",
    "    print('Unknown system...  sorry~~~')"
   ]
  },
  {
   "cell_type": "code",
   "execution_count": 4,
   "metadata": {
    "ExecuteTime": {
     "end_time": "2021-03-26T00:44:03.200644Z",
     "start_time": "2021-03-26T00:44:03.157699Z"
    }
   },
   "outputs": [
    {
     "data": {
      "text/html": [
       "<div>\n",
       "<style scoped>\n",
       "    .dataframe tbody tr th:only-of-type {\n",
       "        vertical-align: middle;\n",
       "    }\n",
       "\n",
       "    .dataframe tbody tr th {\n",
       "        vertical-align: top;\n",
       "    }\n",
       "\n",
       "    .dataframe thead th {\n",
       "        text-align: right;\n",
       "    }\n",
       "</style>\n",
       "<table border=\"1\" class=\"dataframe\">\n",
       "  <thead>\n",
       "    <tr style=\"text-align: right;\">\n",
       "      <th></th>\n",
       "      <th>키</th>\n",
       "      <th>몸무게</th>\n",
       "    </tr>\n",
       "  </thead>\n",
       "  <tbody>\n",
       "    <tr>\n",
       "      <th>0</th>\n",
       "      <td>167.20</td>\n",
       "      <td>71.75</td>\n",
       "    </tr>\n",
       "    <tr>\n",
       "      <th>1</th>\n",
       "      <td>172.00</td>\n",
       "      <td>67.50</td>\n",
       "    </tr>\n",
       "    <tr>\n",
       "      <th>2</th>\n",
       "      <td>172.44</td>\n",
       "      <td>71.60</td>\n",
       "    </tr>\n",
       "    <tr>\n",
       "      <th>3</th>\n",
       "      <td>163.84</td>\n",
       "      <td>65.35</td>\n",
       "    </tr>\n",
       "    <tr>\n",
       "      <th>4</th>\n",
       "      <td>168.04</td>\n",
       "      <td>70.45</td>\n",
       "    </tr>\n",
       "  </tbody>\n",
       "</table>\n",
       "</div>"
      ],
      "text/plain": [
       "        키    몸무게\n",
       "0  167.20  71.75\n",
       "1  172.00  67.50\n",
       "2  172.44  71.60\n",
       "3  163.84  65.35\n",
       "4  168.04  70.45"
      ]
     },
     "execution_count": 4,
     "metadata": {},
     "output_type": "execute_result"
    }
   ],
   "source": [
    "# 실습 데이터 생성\n",
    "# 키와 몸무게 데이터\n",
    "# 평균 170, 65 표준편차 4cm, 5kg\n",
    "n_sample = 1000\n",
    "height = 4*np.random.randn(n_sample).round(2) + 170\n",
    "weight = 5*np.random.randn(n_sample).round(2) + 65\n",
    "\n",
    "# df 생성\n",
    "df_raw = pd.DataFrame({'키':height, '몸무게':weight})\n",
    "df_raw.head()"
   ]
  },
  {
   "cell_type": "code",
   "execution_count": 5,
   "metadata": {
    "ExecuteTime": {
     "end_time": "2021-03-26T00:45:22.333779Z",
     "start_time": "2021-03-26T00:45:22.330144Z"
    }
   },
   "outputs": [],
   "source": [
    "df = df_raw.copy() # 원본 백업"
   ]
  },
  {
   "cell_type": "code",
   "execution_count": 9,
   "metadata": {
    "ExecuteTime": {
     "end_time": "2021-03-26T00:47:26.948635Z",
     "start_time": "2021-03-26T00:47:26.934622Z"
    }
   },
   "outputs": [
    {
     "data": {
      "text/plain": [
       "4.911550272172328"
      ]
     },
     "execution_count": 9,
     "metadata": {},
     "output_type": "execute_result"
    }
   ],
   "source": [
    "df['키'].mean()\n",
    "df['몸무게'].mean()\n",
    "df['키'].std()\n",
    "df['몸무게'].std()"
   ]
  },
  {
   "cell_type": "code",
   "execution_count": 13,
   "metadata": {
    "ExecuteTime": {
     "end_time": "2021-03-26T00:49:41.669654Z",
     "start_time": "2021-03-26T00:49:41.232031Z"
    }
   },
   "outputs": [
    {
     "data": {
      "text/plain": [
       "<AxesSubplot:ylabel='Count'>"
      ]
     },
     "execution_count": 13,
     "metadata": {},
     "output_type": "execute_result"
    },
    {
     "data": {
      "image/png": "[encoded data removed]",
      "text/plain": [
       "<Figure size 360x360 with 1 Axes>"
      ]
     },
     "metadata": {
      "needs_background": "light"
     },
     "output_type": "display_data"
    }
   ],
   "source": [
    "# 샘플의 확률분포 근사 그래프 보기\n",
    "sns.displot(df.키.values, kde=True)\n",
    "sns.histplot(df.키.values,kde=True)"
   ]
  },
  {
   "cell_type": "markdown",
   "metadata": {},
   "source": [
    "### 결측치 처리 실습\n",
    " - 결측치 확인 -> np.isnull()\n",
    " - 결측치 치환 -> np.fillna()"
   ]
  },
  {
   "cell_type": "code",
   "execution_count": 15,
   "metadata": {
    "ExecuteTime": {
     "end_time": "2021-03-26T00:53:01.170107Z",
     "start_time": "2021-03-26T00:53:01.160139Z"
    }
   },
   "outputs": [
    {
     "data": {
      "text/html": [
       "<div>\n",
       "<style scoped>\n",
       "    .dataframe tbody tr th:only-of-type {\n",
       "        vertical-align: middle;\n",
       "    }\n",
       "\n",
       "    .dataframe tbody tr th {\n",
       "        vertical-align: top;\n",
       "    }\n",
       "\n",
       "    .dataframe thead th {\n",
       "        text-align: right;\n",
       "    }\n",
       "</style>\n",
       "<table border=\"1\" class=\"dataframe\">\n",
       "  <thead>\n",
       "    <tr style=\"text-align: right;\">\n",
       "      <th></th>\n",
       "      <th>키</th>\n",
       "      <th>몸무게</th>\n",
       "    </tr>\n",
       "  </thead>\n",
       "  <tbody>\n",
       "    <tr>\n",
       "      <th>0</th>\n",
       "      <td>167.20</td>\n",
       "      <td>71.75</td>\n",
       "    </tr>\n",
       "    <tr>\n",
       "      <th>1</th>\n",
       "      <td>172.00</td>\n",
       "      <td>67.50</td>\n",
       "    </tr>\n",
       "    <tr>\n",
       "      <th>2</th>\n",
       "      <td>172.44</td>\n",
       "      <td>71.60</td>\n",
       "    </tr>\n",
       "    <tr>\n",
       "      <th>3</th>\n",
       "      <td>163.84</td>\n",
       "      <td>NaN</td>\n",
       "    </tr>\n",
       "    <tr>\n",
       "      <th>4</th>\n",
       "      <td>168.04</td>\n",
       "      <td>70.45</td>\n",
       "    </tr>\n",
       "  </tbody>\n",
       "</table>\n",
       "</div>"
      ],
      "text/plain": [
       "        키    몸무게\n",
       "0  167.20  71.75\n",
       "1  172.00  67.50\n",
       "2  172.44  71.60\n",
       "3  163.84    NaN\n",
       "4  168.04  70.45"
      ]
     },
     "execution_count": 15,
     "metadata": {},
     "output_type": "execute_result"
    }
   ],
   "source": [
    "# 임의의 값을 na 값으로 변경\n",
    "df['몸무게'][3] = np.nan\n",
    "df.head()"
   ]
  },
  {
   "cell_type": "code",
   "execution_count": 19,
   "metadata": {
    "ExecuteTime": {
     "end_time": "2021-03-26T01:00:48.254844Z",
     "start_time": "2021-03-26T01:00:48.242873Z"
    }
   },
   "outputs": [
    {
     "data": {
      "text/plain": [
       "키      0\n",
       "몸무게    1\n",
       "dtype: int64"
      ]
     },
     "execution_count": 19,
     "metadata": {},
     "output_type": "execute_result"
    }
   ],
   "source": [
    "# 결측치 갯수 세기\n",
    "df.isnull().sum()"
   ]
  },
  {
   "cell_type": "code",
   "execution_count": 20,
   "metadata": {
    "ExecuteTime": {
     "end_time": "2021-03-26T01:00:57.525740Z",
     "start_time": "2021-03-26T01:00:57.511272Z"
    }
   },
   "outputs": [
    {
     "name": "stdout",
     "output_type": "stream",
     "text": [
      "(999, 2)\n"
     ]
    },
    {
     "data": {
      "text/html": [
       "<div>\n",
       "<style scoped>\n",
       "    .dataframe tbody tr th:only-of-type {\n",
       "        vertical-align: middle;\n",
       "    }\n",
       "\n",
       "    .dataframe tbody tr th {\n",
       "        vertical-align: top;\n",
       "    }\n",
       "\n",
       "    .dataframe thead th {\n",
       "        text-align: right;\n",
       "    }\n",
       "</style>\n",
       "<table border=\"1\" class=\"dataframe\">\n",
       "  <thead>\n",
       "    <tr style=\"text-align: right;\">\n",
       "      <th></th>\n",
       "      <th>키</th>\n",
       "      <th>몸무게</th>\n",
       "    </tr>\n",
       "  </thead>\n",
       "  <tbody>\n",
       "    <tr>\n",
       "      <th>0</th>\n",
       "      <td>167.20</td>\n",
       "      <td>71.75</td>\n",
       "    </tr>\n",
       "    <tr>\n",
       "      <th>1</th>\n",
       "      <td>172.00</td>\n",
       "      <td>67.50</td>\n",
       "    </tr>\n",
       "    <tr>\n",
       "      <th>2</th>\n",
       "      <td>172.44</td>\n",
       "      <td>71.60</td>\n",
       "    </tr>\n",
       "    <tr>\n",
       "      <th>4</th>\n",
       "      <td>168.04</td>\n",
       "      <td>70.45</td>\n",
       "    </tr>\n",
       "    <tr>\n",
       "      <th>5</th>\n",
       "      <td>177.48</td>\n",
       "      <td>61.60</td>\n",
       "    </tr>\n",
       "  </tbody>\n",
       "</table>\n",
       "</div>"
      ],
      "text/plain": [
       "        키    몸무게\n",
       "0  167.20  71.75\n",
       "1  172.00  67.50\n",
       "2  172.44  71.60\n",
       "4  168.04  70.45\n",
       "5  177.48  61.60"
      ]
     },
     "execution_count": 20,
     "metadata": {},
     "output_type": "execute_result"
    }
   ],
   "source": [
    "# 결측치가 있는 SAMPLE 삭제 : dropna() 함수 사용\n",
    "df2 = df.dropna() # na가 있는 행은 모두 지운다\n",
    "print(df2.shape)\n",
    "df2.head()"
   ]
  },
  {
   "cell_type": "code",
   "execution_count": 21,
   "metadata": {
    "ExecuteTime": {
     "end_time": "2021-03-26T01:12:10.779503Z",
     "start_time": "2021-03-26T01:12:10.750553Z"
    }
   },
   "outputs": [
    {
     "data": {
      "text/html": [
       "<div>\n",
       "<style scoped>\n",
       "    .dataframe tbody tr th:only-of-type {\n",
       "        vertical-align: middle;\n",
       "    }\n",
       "\n",
       "    .dataframe tbody tr th {\n",
       "        vertical-align: top;\n",
       "    }\n",
       "\n",
       "    .dataframe thead th {\n",
       "        text-align: right;\n",
       "    }\n",
       "</style>\n",
       "<table border=\"1\" class=\"dataframe\">\n",
       "  <thead>\n",
       "    <tr style=\"text-align: right;\">\n",
       "      <th></th>\n",
       "      <th>키</th>\n",
       "      <th>몸무게</th>\n",
       "    </tr>\n",
       "  </thead>\n",
       "  <tbody>\n",
       "    <tr>\n",
       "      <th>0</th>\n",
       "      <td>167.20</td>\n",
       "      <td>71.75</td>\n",
       "    </tr>\n",
       "    <tr>\n",
       "      <th>1</th>\n",
       "      <td>172.00</td>\n",
       "      <td>67.50</td>\n",
       "    </tr>\n",
       "    <tr>\n",
       "      <th>2</th>\n",
       "      <td>172.44</td>\n",
       "      <td>71.60</td>\n",
       "    </tr>\n",
       "    <tr>\n",
       "      <th>3</th>\n",
       "      <td>163.84</td>\n",
       "      <td>0.00</td>\n",
       "    </tr>\n",
       "    <tr>\n",
       "      <th>4</th>\n",
       "      <td>168.04</td>\n",
       "      <td>70.45</td>\n",
       "    </tr>\n",
       "  </tbody>\n",
       "</table>\n",
       "</div>"
      ],
      "text/plain": [
       "        키    몸무게\n",
       "0  167.20  71.75\n",
       "1  172.00  67.50\n",
       "2  172.44  71.60\n",
       "3  163.84   0.00\n",
       "4  168.04  70.45"
      ]
     },
     "execution_count": 21,
     "metadata": {},
     "output_type": "execute_result"
    }
   ],
   "source": [
    "# 0으로 대체하는 경우\n",
    "# 몸무게나 키가 0일 수는 없기 때문에 대체하면 안됨\n",
    "df.fillna(0).head()"
   ]
  },
  {
   "cell_type": "code",
   "execution_count": 28,
   "metadata": {
    "ExecuteTime": {
     "end_time": "2021-03-26T01:15:30.093739Z",
     "start_time": "2021-03-26T01:15:30.083732Z"
    }
   },
   "outputs": [
    {
     "data": {
      "text/html": [
       "<div>\n",
       "<style scoped>\n",
       "    .dataframe tbody tr th:only-of-type {\n",
       "        vertical-align: middle;\n",
       "    }\n",
       "\n",
       "    .dataframe tbody tr th {\n",
       "        vertical-align: top;\n",
       "    }\n",
       "\n",
       "    .dataframe thead th {\n",
       "        text-align: right;\n",
       "    }\n",
       "</style>\n",
       "<table border=\"1\" class=\"dataframe\">\n",
       "  <thead>\n",
       "    <tr style=\"text-align: right;\">\n",
       "      <th></th>\n",
       "      <th>키</th>\n",
       "      <th>몸무게</th>\n",
       "    </tr>\n",
       "  </thead>\n",
       "  <tbody>\n",
       "    <tr>\n",
       "      <th>0</th>\n",
       "      <td>167.20</td>\n",
       "      <td>71.750000</td>\n",
       "    </tr>\n",
       "    <tr>\n",
       "      <th>1</th>\n",
       "      <td>172.00</td>\n",
       "      <td>67.500000</td>\n",
       "    </tr>\n",
       "    <tr>\n",
       "      <th>2</th>\n",
       "      <td>172.44</td>\n",
       "      <td>71.600000</td>\n",
       "    </tr>\n",
       "    <tr>\n",
       "      <th>3</th>\n",
       "      <td>163.84</td>\n",
       "      <td>65.183333</td>\n",
       "    </tr>\n",
       "    <tr>\n",
       "      <th>4</th>\n",
       "      <td>168.04</td>\n",
       "      <td>70.450000</td>\n",
       "    </tr>\n",
       "  </tbody>\n",
       "</table>\n",
       "</div>"
      ],
      "text/plain": [
       "        키        몸무게\n",
       "0  167.20  71.750000\n",
       "1  172.00  67.500000\n",
       "2  172.44  71.600000\n",
       "3  163.84  65.183333\n",
       "4  168.04  70.450000"
      ]
     },
     "execution_count": 28,
     "metadata": {},
     "output_type": "execute_result"
    }
   ],
   "source": [
    "# 결측치를 다른 값으로 대체하기\n",
    "# 평균으로 대체하기\n",
    "# 키와 몸무게 데이터는 평균으로 대체하는 경우가 많음\n",
    "df3 = df.fillna(df['몸무게'].mean())\n",
    "df3.head()"
   ]
  },
  {
   "cell_type": "code",
   "execution_count": 29,
   "metadata": {
    "ExecuteTime": {
     "end_time": "2021-03-26T01:17:45.070070Z",
     "start_time": "2021-03-26T01:17:45.041908Z"
    }
   },
   "outputs": [
    {
     "data": {
      "text/html": [
       "<div>\n",
       "<style scoped>\n",
       "    .dataframe tbody tr th:only-of-type {\n",
       "        vertical-align: middle;\n",
       "    }\n",
       "\n",
       "    .dataframe tbody tr th {\n",
       "        vertical-align: top;\n",
       "    }\n",
       "\n",
       "    .dataframe thead th {\n",
       "        text-align: right;\n",
       "    }\n",
       "</style>\n",
       "<table border=\"1\" class=\"dataframe\">\n",
       "  <thead>\n",
       "    <tr style=\"text-align: right;\">\n",
       "      <th></th>\n",
       "      <th>키</th>\n",
       "      <th>몸무게</th>\n",
       "    </tr>\n",
       "  </thead>\n",
       "  <tbody>\n",
       "    <tr>\n",
       "      <th>0</th>\n",
       "      <td>167.20</td>\n",
       "      <td>71.75</td>\n",
       "    </tr>\n",
       "    <tr>\n",
       "      <th>1</th>\n",
       "      <td>172.00</td>\n",
       "      <td>67.50</td>\n",
       "    </tr>\n",
       "    <tr>\n",
       "      <th>2</th>\n",
       "      <td>172.44</td>\n",
       "      <td>71.60</td>\n",
       "    </tr>\n",
       "    <tr>\n",
       "      <th>3</th>\n",
       "      <td>163.84</td>\n",
       "      <td>71.60</td>\n",
       "    </tr>\n",
       "    <tr>\n",
       "      <th>4</th>\n",
       "      <td>168.04</td>\n",
       "      <td>70.45</td>\n",
       "    </tr>\n",
       "  </tbody>\n",
       "</table>\n",
       "</div>"
      ],
      "text/plain": [
       "        키    몸무게\n",
       "0  167.20  71.75\n",
       "1  172.00  67.50\n",
       "2  172.44  71.60\n",
       "3  163.84  71.60\n",
       "4  168.04  70.45"
      ]
     },
     "execution_count": 29,
     "metadata": {},
     "output_type": "execute_result"
    }
   ],
   "source": [
    "# 결측치를 다른 값으로 대체하기\n",
    "# 결측치 행의 주변값으로 대체하기\n",
    "# 날씨와 관련된 데이터 등 시계열 데이터인 경우 많이 사용\n",
    "# fillna(mathod='ffill/bfill') : forwardfill or bacjwardfill\n",
    "df.fillna(method='ffill').head()"
   ]
  },
  {
   "cell_type": "markdown",
   "metadata": {},
   "source": [
    "## 스케일링\n",
    "- 여러 변수 값의 범위가 서로 다른 경우 데이터 분석에 동일한 비중으로 반영되도록 하기 위해 동일한 범위로 변환하는 과정\n",
    "- 표준 스케일링을 가장 많이 사용 (평균:0. 표준편차:1)\n",
    "- 표준 스케일링을 했다고 분포가 변하지는 않는다.분포 형태는 그대로 유지\n",
    "- 값의 최소치와 최대치가 정해진 경우 min-max 스케일링도 자주 사용(최소값을 0, 최대값을 1로\n",
    "    - ex) 전압이 0-5만 나올 때\n",
    "- 표준스케일링 : 관측치-평균/표준편차"
   ]
  },
  {
   "cell_type": "code",
   "execution_count": 31,
   "metadata": {
    "ExecuteTime": {
     "end_time": "2021-03-26T01:27:16.135887Z",
     "start_time": "2021-03-26T01:27:16.131944Z"
    }
   },
   "outputs": [],
   "source": [
    "# 키와 몸무게 데이터를 각각 표준 스케일링한 후 컬럼에 추가\n",
    "# fit_transform()\n",
    "df=df_raw.copy() # 결측치 없는 데이터 사용"
   ]
  },
  {
   "cell_type": "code",
   "execution_count": 40,
   "metadata": {
    "ExecuteTime": {
     "end_time": "2021-03-26T01:32:34.508062Z",
     "start_time": "2021-03-26T01:32:34.489122Z"
    }
   },
   "outputs": [
    {
     "data": {
      "text/html": [
       "<div>\n",
       "<style scoped>\n",
       "    .dataframe tbody tr th:only-of-type {\n",
       "        vertical-align: middle;\n",
       "    }\n",
       "\n",
       "    .dataframe tbody tr th {\n",
       "        vertical-align: top;\n",
       "    }\n",
       "\n",
       "    .dataframe thead th {\n",
       "        text-align: right;\n",
       "    }\n",
       "</style>\n",
       "<table border=\"1\" class=\"dataframe\">\n",
       "  <thead>\n",
       "    <tr style=\"text-align: right;\">\n",
       "      <th></th>\n",
       "      <th>키</th>\n",
       "      <th>몸무게</th>\n",
       "      <th>키_sc</th>\n",
       "      <th>몸무게_sc</th>\n",
       "    </tr>\n",
       "  </thead>\n",
       "  <tbody>\n",
       "    <tr>\n",
       "      <th>0</th>\n",
       "      <td>167.20</td>\n",
       "      <td>71.75</td>\n",
       "      <td>-0.709669</td>\n",
       "      <td>1.337620</td>\n",
       "    </tr>\n",
       "    <tr>\n",
       "      <th>1</th>\n",
       "      <td>172.00</td>\n",
       "      <td>67.50</td>\n",
       "      <td>0.460420</td>\n",
       "      <td>0.471879</td>\n",
       "    </tr>\n",
       "    <tr>\n",
       "      <th>2</th>\n",
       "      <td>172.44</td>\n",
       "      <td>71.60</td>\n",
       "      <td>0.567678</td>\n",
       "      <td>1.307064</td>\n",
       "    </tr>\n",
       "    <tr>\n",
       "      <th>3</th>\n",
       "      <td>163.84</td>\n",
       "      <td>65.35</td>\n",
       "      <td>-1.528731</td>\n",
       "      <td>0.033917</td>\n",
       "    </tr>\n",
       "    <tr>\n",
       "      <th>4</th>\n",
       "      <td>168.04</td>\n",
       "      <td>70.45</td>\n",
       "      <td>-0.504903</td>\n",
       "      <td>1.072805</td>\n",
       "    </tr>\n",
       "    <tr>\n",
       "      <th>...</th>\n",
       "      <td>...</td>\n",
       "      <td>...</td>\n",
       "      <td>...</td>\n",
       "      <td>...</td>\n",
       "    </tr>\n",
       "    <tr>\n",
       "      <th>995</th>\n",
       "      <td>168.96</td>\n",
       "      <td>68.70</td>\n",
       "      <td>-0.280636</td>\n",
       "      <td>0.716324</td>\n",
       "    </tr>\n",
       "    <tr>\n",
       "      <th>996</th>\n",
       "      <td>167.96</td>\n",
       "      <td>67.70</td>\n",
       "      <td>-0.524405</td>\n",
       "      <td>0.512620</td>\n",
       "    </tr>\n",
       "    <tr>\n",
       "      <th>997</th>\n",
       "      <td>174.68</td>\n",
       "      <td>67.50</td>\n",
       "      <td>1.113720</td>\n",
       "      <td>0.471879</td>\n",
       "    </tr>\n",
       "    <tr>\n",
       "      <th>998</th>\n",
       "      <td>173.56</td>\n",
       "      <td>61.35</td>\n",
       "      <td>0.840699</td>\n",
       "      <td>-0.780898</td>\n",
       "    </tr>\n",
       "    <tr>\n",
       "      <th>999</th>\n",
       "      <td>167.80</td>\n",
       "      <td>54.40</td>\n",
       "      <td>-0.563407</td>\n",
       "      <td>-2.196638</td>\n",
       "    </tr>\n",
       "  </tbody>\n",
       "</table>\n",
       "<p>1000 rows × 4 columns</p>\n",
       "</div>"
      ],
      "text/plain": [
       "          키    몸무게      키_sc    몸무게_sc\n",
       "0    167.20  71.75 -0.709669  1.337620\n",
       "1    172.00  67.50  0.460420  0.471879\n",
       "2    172.44  71.60  0.567678  1.307064\n",
       "3    163.84  65.35 -1.528731  0.033917\n",
       "4    168.04  70.45 -0.504903  1.072805\n",
       "..      ...    ...       ...       ...\n",
       "995  168.96  68.70 -0.280636  0.716324\n",
       "996  167.96  67.70 -0.524405  0.512620\n",
       "997  174.68  67.50  1.113720  0.471879\n",
       "998  173.56  61.35  0.840699 -0.780898\n",
       "999  167.80  54.40 -0.563407 -2.196638\n",
       "\n",
       "[1000 rows x 4 columns]"
      ]
     },
     "execution_count": 40,
     "metadata": {},
     "output_type": "execute_result"
    }
   ],
   "source": [
    "from sklearn.preprocessing import StandardScaler # 표준 스케일링 함수\n",
    "scale = StandardScaler() # 생성자 호출해서 객체 생성, 함수의 기능을 scale에 전수\n",
    "df[['키_sc','몸무게_sc']]=scale.fit_transform(df[['키','몸무게']])\n",
    "df"
   ]
  },
  {
   "cell_type": "code",
   "execution_count": 41,
   "metadata": {
    "ExecuteTime": {
     "end_time": "2021-03-26T01:33:28.241048Z",
     "start_time": "2021-03-26T01:33:28.234718Z"
    }
   },
   "outputs": [
    {
     "data": {
      "text/plain": [
       "(array([170.11124,  65.1835 ]), array([4.10225285, 4.90909388]))"
      ]
     },
     "execution_count": 41,
     "metadata": {},
     "output_type": "execute_result"
    }
   ],
   "source": [
    "# scale의 평균, 표준편차\n",
    "scale.mean_, scale.scale_"
   ]
  },
  {
   "cell_type": "code",
   "execution_count": 44,
   "metadata": {
    "ExecuteTime": {
     "end_time": "2021-03-26T01:34:45.502838Z",
     "start_time": "2021-03-26T01:34:45.485286Z"
    }
   },
   "outputs": [
    {
     "data": {
      "text/plain": [
       "1.0116352200384427e-15"
      ]
     },
     "execution_count": 44,
     "metadata": {},
     "output_type": "execute_result"
    }
   ],
   "source": [
    "df['몸무게_sc'].mean() # 1.0116352200384427e-15 거의 0에 가까움"
   ]
  },
  {
   "cell_type": "code",
   "execution_count": 48,
   "metadata": {
    "ExecuteTime": {
     "end_time": "2021-03-26T01:39:17.871064Z",
     "start_time": "2021-03-26T01:39:17.860543Z"
    }
   },
   "outputs": [
    {
     "data": {
      "text/plain": [
       "array([[167.2 ,  71.75],\n",
       "       [172.  ,  67.5 ],\n",
       "       [172.44,  71.6 ],\n",
       "       [163.84,  65.35],\n",
       "       [168.04,  70.45]])"
      ]
     },
     "execution_count": 48,
     "metadata": {},
     "output_type": "execute_result"
    }
   ],
   "source": [
    "# 스케일링 이전의 원래 값으로 환원\n",
    "# inverse_transform() 사용\n",
    "scale.inverse_transform(df[['키_sc','몸무게_sc']])[:5]"
   ]
  },
  {
   "cell_type": "code",
   "execution_count": 62,
   "metadata": {
    "ExecuteTime": {
     "end_time": "2021-03-26T01:48:14.910079Z",
     "start_time": "2021-03-26T01:48:14.600496Z"
    }
   },
   "outputs": [
    {
     "data": {
      "text/plain": [
       "<AxesSubplot:ylabel='Density'>"
      ]
     },
     "execution_count": 62,
     "metadata": {},
     "output_type": "execute_result"
    },
    {
     "data": {
      "image/png": "[encoded data removed]",
      "text/plain": [
       "<Figure size 432x288 with 1 Axes>"
      ]
     },
     "metadata": {
      "needs_background": "light"
     },
     "output_type": "display_data"
    }
   ],
   "source": [
    "# 데이터 분포 시각화\n",
    "df[['키','몸무게']].plot.kde() # 히스토그램에 가장 근접한 확률분포 함수를 이용한 그래프 그림\n",
    "# 두개의 데이터의 범위가 다르게 나타남"
   ]
  },
  {
   "cell_type": "code",
   "execution_count": 63,
   "metadata": {
    "ExecuteTime": {
     "end_time": "2021-03-26T01:48:17.570519Z",
     "start_time": "2021-03-26T01:48:17.106547Z"
    }
   },
   "outputs": [
    {
     "data": {
      "text/plain": [
       "<AxesSubplot:ylabel='Density'>"
      ]
     },
     "execution_count": 63,
     "metadata": {},
     "output_type": "execute_result"
    },
    {
     "data": {
      "image/png": "[encoded data removed]",
      "text/plain": [
       "<Figure size 432x288 with 1 Axes>"
      ]
     },
     "metadata": {
      "needs_background": "light"
     },
     "output_type": "display_data"
    }
   ],
   "source": [
    "df[['키_sc','몸무게_sc']].plot.kde()"
   ]
  },
  {
   "cell_type": "code",
   "execution_count": 57,
   "metadata": {
    "ExecuteTime": {
     "end_time": "2021-03-26T01:46:36.132613Z",
     "start_time": "2021-03-26T01:46:36.092108Z"
    }
   },
   "outputs": [
    {
     "data": {
      "text/html": [
       "<div>\n",
       "<style scoped>\n",
       "    .dataframe tbody tr th:only-of-type {\n",
       "        vertical-align: middle;\n",
       "    }\n",
       "\n",
       "    .dataframe tbody tr th {\n",
       "        vertical-align: top;\n",
       "    }\n",
       "\n",
       "    .dataframe thead th {\n",
       "        text-align: right;\n",
       "    }\n",
       "</style>\n",
       "<table border=\"1\" class=\"dataframe\">\n",
       "  <thead>\n",
       "    <tr style=\"text-align: right;\">\n",
       "      <th></th>\n",
       "      <th>키</th>\n",
       "      <th>몸무게</th>\n",
       "      <th>키_sc</th>\n",
       "      <th>몸무게_sc</th>\n",
       "      <th>키_nx</th>\n",
       "      <th>몸무게_nx</th>\n",
       "    </tr>\n",
       "  </thead>\n",
       "  <tbody>\n",
       "    <tr>\n",
       "      <th>0</th>\n",
       "      <td>167.20</td>\n",
       "      <td>71.75</td>\n",
       "      <td>-0.709669</td>\n",
       "      <td>1.337620</td>\n",
       "      <td>0.435385</td>\n",
       "      <td>0.656695</td>\n",
       "    </tr>\n",
       "    <tr>\n",
       "      <th>1</th>\n",
       "      <td>172.00</td>\n",
       "      <td>67.50</td>\n",
       "      <td>0.460420</td>\n",
       "      <td>0.471879</td>\n",
       "      <td>0.620000</td>\n",
       "      <td>0.535613</td>\n",
       "    </tr>\n",
       "    <tr>\n",
       "      <th>2</th>\n",
       "      <td>172.44</td>\n",
       "      <td>71.60</td>\n",
       "      <td>0.567678</td>\n",
       "      <td>1.307064</td>\n",
       "      <td>0.636923</td>\n",
       "      <td>0.652422</td>\n",
       "    </tr>\n",
       "    <tr>\n",
       "      <th>3</th>\n",
       "      <td>163.84</td>\n",
       "      <td>65.35</td>\n",
       "      <td>-1.528731</td>\n",
       "      <td>0.033917</td>\n",
       "      <td>0.306154</td>\n",
       "      <td>0.474359</td>\n",
       "    </tr>\n",
       "    <tr>\n",
       "      <th>4</th>\n",
       "      <td>168.04</td>\n",
       "      <td>70.45</td>\n",
       "      <td>-0.504903</td>\n",
       "      <td>1.072805</td>\n",
       "      <td>0.467692</td>\n",
       "      <td>0.619658</td>\n",
       "    </tr>\n",
       "  </tbody>\n",
       "</table>\n",
       "</div>"
      ],
      "text/plain": [
       "        키    몸무게      키_sc    몸무게_sc      키_nx    몸무게_nx\n",
       "0  167.20  71.75 -0.709669  1.337620  0.435385  0.656695\n",
       "1  172.00  67.50  0.460420  0.471879  0.620000  0.535613\n",
       "2  172.44  71.60  0.567678  1.307064  0.636923  0.652422\n",
       "3  163.84  65.35 -1.528731  0.033917  0.306154  0.474359\n",
       "4  168.04  70.45 -0.504903  1.072805  0.467692  0.619658"
      ]
     },
     "execution_count": 57,
     "metadata": {},
     "output_type": "execute_result"
    }
   ],
   "source": [
    "# min-max 스케일링 (데이터의 최소값이 0 최대값이 1이 되도록 조정)\n",
    "from sklearn.preprocessing import MinMaxScaler\n",
    "minmax = MinMaxScaler()\n",
    "df[['키_nx','몸무게_nx']] = minmax.fit_transform(df[['키','몸무게']])\n",
    "df.head()"
   ]
  },
  {
   "cell_type": "code",
   "execution_count": 64,
   "metadata": {
    "ExecuteTime": {
     "end_time": "2021-03-26T01:48:19.959346Z",
     "start_time": "2021-03-26T01:48:19.637737Z"
    }
   },
   "outputs": [
    {
     "data": {
      "text/plain": [
       "<AxesSubplot:ylabel='Density'>"
      ]
     },
     "execution_count": 64,
     "metadata": {},
     "output_type": "execute_result"
    },
    {
     "data": {
      "image/png": "[encoded data removed]",
      "text/plain": [
       "<Figure size 432x288 with 1 Axes>"
      ]
     },
     "metadata": {
      "needs_background": "light"
     },
     "output_type": "display_data"
    }
   ],
   "source": [
    "df[['키_nx','몸무게_nx']].plot.kde()"
   ]
  },
  {
   "cell_type": "code",
   "execution_count": 66,
   "metadata": {
    "ExecuteTime": {
     "end_time": "2021-03-26T01:48:51.556074Z",
     "start_time": "2021-03-26T01:48:51.548038Z"
    }
   },
   "outputs": [
    {
     "data": {
      "text/plain": [
       "0.0"
      ]
     },
     "execution_count": 66,
     "metadata": {},
     "output_type": "execute_result"
    }
   ],
   "source": [
    "df['키_nx'].min()"
   ]
  },
  {
   "cell_type": "code",
   "execution_count": 80,
   "metadata": {
    "ExecuteTime": {
     "end_time": "2021-03-26T02:18:44.466393Z",
     "start_time": "2021-03-26T02:18:44.442473Z"
    }
   },
   "outputs": [
    {
     "data": {
      "text/html": [
       "<div>\n",
       "<style scoped>\n",
       "    .dataframe tbody tr th:only-of-type {\n",
       "        vertical-align: middle;\n",
       "    }\n",
       "\n",
       "    .dataframe tbody tr th {\n",
       "        vertical-align: top;\n",
       "    }\n",
       "\n",
       "    .dataframe thead th {\n",
       "        text-align: right;\n",
       "    }\n",
       "</style>\n",
       "<table border=\"1\" class=\"dataframe\">\n",
       "  <thead>\n",
       "    <tr style=\"text-align: right;\">\n",
       "      <th></th>\n",
       "      <th>키</th>\n",
       "      <th>몸무게</th>\n",
       "      <th>키_sc</th>\n",
       "      <th>몸무게_sc</th>\n",
       "      <th>키_nx</th>\n",
       "      <th>몸무게_nx</th>\n",
       "      <th>키_1</th>\n",
       "      <th>키_1_sc</th>\n",
       "      <th>키_1_nx</th>\n",
       "    </tr>\n",
       "  </thead>\n",
       "  <tbody>\n",
       "    <tr>\n",
       "      <th>0</th>\n",
       "      <td>167.20</td>\n",
       "      <td>71.75</td>\n",
       "      <td>-0.709669</td>\n",
       "      <td>1.337620</td>\n",
       "      <td>0.435385</td>\n",
       "      <td>0.656695</td>\n",
       "      <td>200.00</td>\n",
       "      <td>31.477620</td>\n",
       "      <td>1.000000</td>\n",
       "    </tr>\n",
       "    <tr>\n",
       "      <th>1</th>\n",
       "      <td>172.00</td>\n",
       "      <td>67.50</td>\n",
       "      <td>0.460420</td>\n",
       "      <td>0.471879</td>\n",
       "      <td>0.620000</td>\n",
       "      <td>0.535613</td>\n",
       "      <td>172.00</td>\n",
       "      <td>0.010048</td>\n",
       "      <td>0.011163</td>\n",
       "    </tr>\n",
       "    <tr>\n",
       "      <th>2</th>\n",
       "      <td>172.44</td>\n",
       "      <td>71.60</td>\n",
       "      <td>0.567678</td>\n",
       "      <td>1.307064</td>\n",
       "      <td>0.636923</td>\n",
       "      <td>0.652422</td>\n",
       "      <td>172.44</td>\n",
       "      <td>0.019743</td>\n",
       "      <td>0.011467</td>\n",
       "    </tr>\n",
       "    <tr>\n",
       "      <th>3</th>\n",
       "      <td>163.84</td>\n",
       "      <td>65.35</td>\n",
       "      <td>-1.528731</td>\n",
       "      <td>0.033917</td>\n",
       "      <td>0.306154</td>\n",
       "      <td>0.474359</td>\n",
       "      <td>163.84</td>\n",
       "      <td>-0.169767</td>\n",
       "      <td>0.005512</td>\n",
       "    </tr>\n",
       "    <tr>\n",
       "      <th>4</th>\n",
       "      <td>168.04</td>\n",
       "      <td>70.45</td>\n",
       "      <td>-0.504903</td>\n",
       "      <td>1.072805</td>\n",
       "      <td>0.467692</td>\n",
       "      <td>0.619658</td>\n",
       "      <td>168.04</td>\n",
       "      <td>-0.077215</td>\n",
       "      <td>0.008420</td>\n",
       "    </tr>\n",
       "    <tr>\n",
       "      <th>...</th>\n",
       "      <td>...</td>\n",
       "      <td>...</td>\n",
       "      <td>...</td>\n",
       "      <td>...</td>\n",
       "      <td>...</td>\n",
       "      <td>...</td>\n",
       "      <td>...</td>\n",
       "      <td>...</td>\n",
       "      <td>...</td>\n",
       "    </tr>\n",
       "    <tr>\n",
       "      <th>995</th>\n",
       "      <td>168.96</td>\n",
       "      <td>68.70</td>\n",
       "      <td>-0.280636</td>\n",
       "      <td>0.716324</td>\n",
       "      <td>0.503077</td>\n",
       "      <td>0.569801</td>\n",
       "      <td>168.96</td>\n",
       "      <td>-0.056942</td>\n",
       "      <td>0.009057</td>\n",
       "    </tr>\n",
       "    <tr>\n",
       "      <th>996</th>\n",
       "      <td>167.96</td>\n",
       "      <td>67.70</td>\n",
       "      <td>-0.524405</td>\n",
       "      <td>0.512620</td>\n",
       "      <td>0.464615</td>\n",
       "      <td>0.541311</td>\n",
       "      <td>167.96</td>\n",
       "      <td>-0.078978</td>\n",
       "      <td>0.008365</td>\n",
       "    </tr>\n",
       "    <tr>\n",
       "      <th>997</th>\n",
       "      <td>174.68</td>\n",
       "      <td>67.50</td>\n",
       "      <td>1.113720</td>\n",
       "      <td>0.471879</td>\n",
       "      <td>0.723077</td>\n",
       "      <td>0.535613</td>\n",
       "      <td>174.68</td>\n",
       "      <td>0.069104</td>\n",
       "      <td>0.013018</td>\n",
       "    </tr>\n",
       "    <tr>\n",
       "      <th>998</th>\n",
       "      <td>173.56</td>\n",
       "      <td>61.35</td>\n",
       "      <td>0.840699</td>\n",
       "      <td>-0.780898</td>\n",
       "      <td>0.680000</td>\n",
       "      <td>0.360399</td>\n",
       "      <td>173.56</td>\n",
       "      <td>0.044424</td>\n",
       "      <td>0.012243</td>\n",
       "    </tr>\n",
       "    <tr>\n",
       "      <th>999</th>\n",
       "      <td>167.80</td>\n",
       "      <td>54.40</td>\n",
       "      <td>-0.563407</td>\n",
       "      <td>-2.196638</td>\n",
       "      <td>0.458462</td>\n",
       "      <td>0.162393</td>\n",
       "      <td>167.80</td>\n",
       "      <td>-0.082504</td>\n",
       "      <td>0.008254</td>\n",
       "    </tr>\n",
       "  </tbody>\n",
       "</table>\n",
       "<p>1000 rows × 9 columns</p>\n",
       "</div>"
      ],
      "text/plain": [
       "          키    몸무게      키_sc    몸무게_sc      키_nx    몸무게_nx     키_1     키_1_sc  \\\n",
       "0    167.20  71.75 -0.709669  1.337620  0.435385  0.656695  200.00  31.477620   \n",
       "1    172.00  67.50  0.460420  0.471879  0.620000  0.535613  172.00   0.010048   \n",
       "2    172.44  71.60  0.567678  1.307064  0.636923  0.652422  172.44   0.019743   \n",
       "3    163.84  65.35 -1.528731  0.033917  0.306154  0.474359  163.84  -0.169767   \n",
       "4    168.04  70.45 -0.504903  1.072805  0.467692  0.619658  168.04  -0.077215   \n",
       "..      ...    ...       ...       ...       ...       ...     ...        ...   \n",
       "995  168.96  68.70 -0.280636  0.716324  0.503077  0.569801  168.96  -0.056942   \n",
       "996  167.96  67.70 -0.524405  0.512620  0.464615  0.541311  167.96  -0.078978   \n",
       "997  174.68  67.50  1.113720  0.471879  0.723077  0.535613  174.68   0.069104   \n",
       "998  173.56  61.35  0.840699 -0.780898  0.680000  0.360399  173.56   0.044424   \n",
       "999  167.80  54.40 -0.563407 -2.196638  0.458462  0.162393  167.80  -0.082504   \n",
       "\n",
       "       키_1_nx  \n",
       "0    1.000000  \n",
       "1    0.011163  \n",
       "2    0.011467  \n",
       "3    0.005512  \n",
       "4    0.008420  \n",
       "..        ...  \n",
       "995  0.009057  \n",
       "996  0.008365  \n",
       "997  0.013018  \n",
       "998  0.012243  \n",
       "999  0.008254  \n",
       "\n",
       "[1000 rows x 9 columns]"
      ]
     },
     "execution_count": 80,
     "metadata": {},
     "output_type": "execute_result"
    }
   ],
   "source": [
    "# 이상치가 포함될 경우\n",
    "# 이상치가 포함된 키 데이터 생성 키_1\n",
    "키_1 = height.copy()\n",
    "키_1[0] = 200\n",
    "df['키_1'] = 키_1\n",
    "df"
   ]
  },
  {
   "cell_type": "code",
   "execution_count": null,
   "metadata": {},
   "outputs": [],
   "source": [
    "# 이상치가 포함된 데이터(컬럼)에 표준 스케일링 적용"
   ]
  },
  {
   "cell_type": "code",
   "execution_count": 81,
   "metadata": {
    "ExecuteTime": {
     "end_time": "2021-03-26T02:18:49.993296Z",
     "start_time": "2021-03-26T02:18:49.965387Z"
    }
   },
   "outputs": [
    {
     "data": {
      "text/html": [
       "<div>\n",
       "<style scoped>\n",
       "    .dataframe tbody tr th:only-of-type {\n",
       "        vertical-align: middle;\n",
       "    }\n",
       "\n",
       "    .dataframe tbody tr th {\n",
       "        vertical-align: top;\n",
       "    }\n",
       "\n",
       "    .dataframe thead th {\n",
       "        text-align: right;\n",
       "    }\n",
       "</style>\n",
       "<table border=\"1\" class=\"dataframe\">\n",
       "  <thead>\n",
       "    <tr style=\"text-align: right;\">\n",
       "      <th></th>\n",
       "      <th>키</th>\n",
       "      <th>몸무게</th>\n",
       "      <th>키_sc</th>\n",
       "      <th>몸무게_sc</th>\n",
       "      <th>키_nx</th>\n",
       "      <th>몸무게_nx</th>\n",
       "      <th>키_1</th>\n",
       "      <th>키_1_sc</th>\n",
       "      <th>키_1_nx</th>\n",
       "    </tr>\n",
       "  </thead>\n",
       "  <tbody>\n",
       "    <tr>\n",
       "      <th>0</th>\n",
       "      <td>167.20</td>\n",
       "      <td>71.75</td>\n",
       "      <td>-0.709669</td>\n",
       "      <td>1.337620</td>\n",
       "      <td>0.435385</td>\n",
       "      <td>0.656695</td>\n",
       "      <td>200.00</td>\n",
       "      <td>7.094046</td>\n",
       "      <td>1.000000</td>\n",
       "    </tr>\n",
       "    <tr>\n",
       "      <th>1</th>\n",
       "      <td>172.00</td>\n",
       "      <td>67.50</td>\n",
       "      <td>0.460420</td>\n",
       "      <td>0.471879</td>\n",
       "      <td>0.620000</td>\n",
       "      <td>0.535613</td>\n",
       "      <td>172.00</td>\n",
       "      <td>0.440993</td>\n",
       "      <td>0.011163</td>\n",
       "    </tr>\n",
       "    <tr>\n",
       "      <th>2</th>\n",
       "      <td>172.44</td>\n",
       "      <td>71.60</td>\n",
       "      <td>0.567678</td>\n",
       "      <td>1.307064</td>\n",
       "      <td>0.636923</td>\n",
       "      <td>0.652422</td>\n",
       "      <td>172.44</td>\n",
       "      <td>0.545541</td>\n",
       "      <td>0.011467</td>\n",
       "    </tr>\n",
       "    <tr>\n",
       "      <th>3</th>\n",
       "      <td>163.84</td>\n",
       "      <td>65.35</td>\n",
       "      <td>-1.528731</td>\n",
       "      <td>0.033917</td>\n",
       "      <td>0.306154</td>\n",
       "      <td>0.474359</td>\n",
       "      <td>163.84</td>\n",
       "      <td>-1.497897</td>\n",
       "      <td>0.005512</td>\n",
       "    </tr>\n",
       "    <tr>\n",
       "      <th>4</th>\n",
       "      <td>168.04</td>\n",
       "      <td>70.45</td>\n",
       "      <td>-0.504903</td>\n",
       "      <td>1.072805</td>\n",
       "      <td>0.467692</td>\n",
       "      <td>0.619658</td>\n",
       "      <td>168.04</td>\n",
       "      <td>-0.499939</td>\n",
       "      <td>0.008420</td>\n",
       "    </tr>\n",
       "  </tbody>\n",
       "</table>\n",
       "</div>"
      ],
      "text/plain": [
       "        키    몸무게      키_sc    몸무게_sc      키_nx    몸무게_nx     키_1    키_1_sc  \\\n",
       "0  167.20  71.75 -0.709669  1.337620  0.435385  0.656695  200.00  7.094046   \n",
       "1  172.00  67.50  0.460420  0.471879  0.620000  0.535613  172.00  0.440993   \n",
       "2  172.44  71.60  0.567678  1.307064  0.636923  0.652422  172.44  0.545541   \n",
       "3  163.84  65.35 -1.528731  0.033917  0.306154  0.474359  163.84 -1.497897   \n",
       "4  168.04  70.45 -0.504903  1.072805  0.467692  0.619658  168.04 -0.499939   \n",
       "\n",
       "     키_1_nx  \n",
       "0  1.000000  \n",
       "1  0.011163  \n",
       "2  0.011467  \n",
       "3  0.005512  \n",
       "4  0.008420  "
      ]
     },
     "execution_count": 81,
     "metadata": {},
     "output_type": "execute_result"
    }
   ],
   "source": [
    "df['키_1_sc'] = scale.fit_transform(df[['키_1']])\n",
    "df.head()"
   ]
  },
  {
   "cell_type": "code",
   "execution_count": 76,
   "metadata": {
    "ExecuteTime": {
     "end_time": "2021-03-26T01:56:45.768423Z",
     "start_time": "2021-03-26T01:56:45.437014Z"
    }
   },
   "outputs": [
    {
     "data": {
      "text/plain": [
       "<AxesSubplot:ylabel='Density'>"
      ]
     },
     "execution_count": 76,
     "metadata": {},
     "output_type": "execute_result"
    },
    {
     "data": {
      "image/png": "[encoded data removed]",
      "text/plain": [
       "<Figure size 432x288 with 1 Axes>"
      ]
     },
     "metadata": {
      "needs_background": "light"
     },
     "output_type": "display_data"
    }
   ],
   "source": [
    "df[['키_sc','키_1_sc']].plot.kde()"
   ]
  },
  {
   "cell_type": "code",
   "execution_count": 82,
   "metadata": {
    "ExecuteTime": {
     "end_time": "2021-03-26T02:18:52.759546Z",
     "start_time": "2021-03-26T02:18:52.728658Z"
    }
   },
   "outputs": [
    {
     "data": {
      "text/html": [
       "<div>\n",
       "<style scoped>\n",
       "    .dataframe tbody tr th:only-of-type {\n",
       "        vertical-align: middle;\n",
       "    }\n",
       "\n",
       "    .dataframe tbody tr th {\n",
       "        vertical-align: top;\n",
       "    }\n",
       "\n",
       "    .dataframe thead th {\n",
       "        text-align: right;\n",
       "    }\n",
       "</style>\n",
       "<table border=\"1\" class=\"dataframe\">\n",
       "  <thead>\n",
       "    <tr style=\"text-align: right;\">\n",
       "      <th></th>\n",
       "      <th>키</th>\n",
       "      <th>몸무게</th>\n",
       "      <th>키_sc</th>\n",
       "      <th>몸무게_sc</th>\n",
       "      <th>키_nx</th>\n",
       "      <th>몸무게_nx</th>\n",
       "      <th>키_1</th>\n",
       "      <th>키_1_sc</th>\n",
       "      <th>키_1_nx</th>\n",
       "    </tr>\n",
       "  </thead>\n",
       "  <tbody>\n",
       "    <tr>\n",
       "      <th>0</th>\n",
       "      <td>167.20</td>\n",
       "      <td>71.75</td>\n",
       "      <td>-0.709669</td>\n",
       "      <td>1.337620</td>\n",
       "      <td>0.435385</td>\n",
       "      <td>0.656695</td>\n",
       "      <td>200.00</td>\n",
       "      <td>7.094046</td>\n",
       "      <td>1.000000</td>\n",
       "    </tr>\n",
       "    <tr>\n",
       "      <th>1</th>\n",
       "      <td>172.00</td>\n",
       "      <td>67.50</td>\n",
       "      <td>0.460420</td>\n",
       "      <td>0.471879</td>\n",
       "      <td>0.620000</td>\n",
       "      <td>0.535613</td>\n",
       "      <td>172.00</td>\n",
       "      <td>0.440993</td>\n",
       "      <td>0.365367</td>\n",
       "    </tr>\n",
       "    <tr>\n",
       "      <th>2</th>\n",
       "      <td>172.44</td>\n",
       "      <td>71.60</td>\n",
       "      <td>0.567678</td>\n",
       "      <td>1.307064</td>\n",
       "      <td>0.636923</td>\n",
       "      <td>0.652422</td>\n",
       "      <td>172.44</td>\n",
       "      <td>0.545541</td>\n",
       "      <td>0.375340</td>\n",
       "    </tr>\n",
       "    <tr>\n",
       "      <th>3</th>\n",
       "      <td>163.84</td>\n",
       "      <td>65.35</td>\n",
       "      <td>-1.528731</td>\n",
       "      <td>0.033917</td>\n",
       "      <td>0.306154</td>\n",
       "      <td>0.474359</td>\n",
       "      <td>163.84</td>\n",
       "      <td>-1.497897</td>\n",
       "      <td>0.180417</td>\n",
       "    </tr>\n",
       "    <tr>\n",
       "      <th>4</th>\n",
       "      <td>168.04</td>\n",
       "      <td>70.45</td>\n",
       "      <td>-0.504903</td>\n",
       "      <td>1.072805</td>\n",
       "      <td>0.467692</td>\n",
       "      <td>0.619658</td>\n",
       "      <td>168.04</td>\n",
       "      <td>-0.499939</td>\n",
       "      <td>0.275612</td>\n",
       "    </tr>\n",
       "  </tbody>\n",
       "</table>\n",
       "</div>"
      ],
      "text/plain": [
       "        키    몸무게      키_sc    몸무게_sc      키_nx    몸무게_nx     키_1    키_1_sc  \\\n",
       "0  167.20  71.75 -0.709669  1.337620  0.435385  0.656695  200.00  7.094046   \n",
       "1  172.00  67.50  0.460420  0.471879  0.620000  0.535613  172.00  0.440993   \n",
       "2  172.44  71.60  0.567678  1.307064  0.636923  0.652422  172.44  0.545541   \n",
       "3  163.84  65.35 -1.528731  0.033917  0.306154  0.474359  163.84 -1.497897   \n",
       "4  168.04  70.45 -0.504903  1.072805  0.467692  0.619658  168.04 -0.499939   \n",
       "\n",
       "     키_1_nx  \n",
       "0  1.000000  \n",
       "1  0.365367  \n",
       "2  0.375340  \n",
       "3  0.180417  \n",
       "4  0.275612  "
      ]
     },
     "execution_count": 82,
     "metadata": {},
     "output_type": "execute_result"
    }
   ],
   "source": [
    "df['키_1_nx'] = minmax.fit_transform(df[['키_1']])\n",
    "df.head()"
   ]
  },
  {
   "cell_type": "code",
   "execution_count": 83,
   "metadata": {
    "ExecuteTime": {
     "end_time": "2021-03-26T02:18:55.213100Z",
     "start_time": "2021-03-26T02:18:54.897449Z"
    }
   },
   "outputs": [
    {
     "data": {
      "text/plain": [
       "<AxesSubplot:ylabel='Density'>"
      ]
     },
     "execution_count": 83,
     "metadata": {},
     "output_type": "execute_result"
    },
    {
     "data": {
      "image/png": "[encoded data removed]",
      "text/plain": [
       "<Figure size 432x288 with 1 Axes>"
      ]
     },
     "metadata": {
      "needs_background": "light"
     },
     "output_type": "display_data"
    }
   ],
   "source": [
    "df[['키_1_nx','키_nx']].plot.kde()\n",
    "# 이상치 하나때문에 데이터의 다른 값들이 크게 달라지게 됨\n",
    "# 정상치 데이터와 이상치 포함 데이터 분포 결과가 달라진다는 건 입력되는 데이터가 달라지게 됨\n",
    "# minmax 스케일링은 범위가 명확하다는 전제가 있어야함"
   ]
  },
  {
   "cell_type": "markdown",
   "metadata": {},
   "source": [
    "## 이상치 처리\n",
    "- 경험이 많이 필요\n",
    "- 이상치 처리 목적\n",
    "    - 이상치를 제거해 데이터의 분석의 정확도를 높이기 위해\n",
    "    - 이상치를 찾는 것이 목적인 경우\n",
    "        - ex) 기기 이상을 찾기 위해\n",
    "        - ex) 대출 및 금융 관련\n",
    "- boxplot를 보면 이상치 존재 파악이 쉽다\n",
    "- 표준스케일링한 후 값이 큰 것들(6 이상)을 이상치로 봄"
   ]
  },
  {
   "cell_type": "code",
   "execution_count": 85,
   "metadata": {
    "ExecuteTime": {
     "end_time": "2021-03-26T02:32:20.098771Z",
     "start_time": "2021-03-26T02:32:19.789260Z"
    }
   },
   "outputs": [
    {
     "data": {
      "text/plain": [
       "<AxesSubplot:>"
      ]
     },
     "execution_count": 85,
     "metadata": {},
     "output_type": "execute_result"
    },
    {
     "data": {
      "image/png": "[encoded data removed]",
      "text/plain": [
       "<Figure size 432x288 with 1 Axes>"
      ]
     },
     "metadata": {
      "needs_background": "light"
     },
     "output_type": "display_data"
    }
   ],
   "source": [
    "# 이상치가 없는 경우와 있는 경우의 박스 플롯\n",
    "df[['키','키_1']].boxplot()"
   ]
  },
  {
   "cell_type": "code",
   "execution_count": 86,
   "metadata": {
    "ExecuteTime": {
     "end_time": "2021-03-26T02:33:18.342844Z",
     "start_time": "2021-03-26T02:33:18.143500Z"
    }
   },
   "outputs": [
    {
     "data": {
      "text/plain": [
       "<AxesSubplot:>"
      ]
     },
     "execution_count": 86,
     "metadata": {},
     "output_type": "execute_result"
    },
    {
     "data": {
      "image/png": "[encoded data removed]",
      "text/plain": [
       "<Figure size 432x288 with 1 Axes>"
      ]
     },
     "metadata": {
      "needs_background": "light"
     },
     "output_type": "display_data"
    }
   ],
   "source": [
    "# 스케일링된 데이터를 비교\n",
    "df[['키_sc','키_1_sc']].boxplot()"
   ]
  },
  {
   "cell_type": "markdown",
   "metadata": {},
   "source": [
    "## 데이터변환\n",
    "- 데이터의 입출력이 선형적일 때 가장 예측하기가 쉽기에 변환이 필요\n",
    "### 로그 변환"
   ]
  },
  {
   "cell_type": "code",
   "execution_count": 89,
   "metadata": {
    "ExecuteTime": {
     "end_time": "2021-03-26T02:41:25.784896Z",
     "start_time": "2021-03-26T02:41:25.491343Z"
    }
   },
   "outputs": [
    {
     "data": {
      "text/plain": [
       "[<matplotlib.lines.Line2D at 0x22f79a32550>]"
      ]
     },
     "execution_count": 89,
     "metadata": {},
     "output_type": "execute_result"
    },
    {
     "data": {
      "image/png": "[encoded data removed]",
      "text/plain": [
       "<Figure size 432x288 with 1 Axes>"
      ]
     },
     "metadata": {
      "needs_background": "light"
     },
     "output_type": "display_data"
    }
   ],
   "source": [
    "x = np.linspace(1,1000000,200)\n",
    "y = np.log(x)\n",
    "plt.plot(x,y)"
   ]
  },
  {
   "cell_type": "markdown",
   "metadata": {},
   "source": [
    "### log_normal 분포\n",
    " - 어떤 값에 로그를 취하면 정규분포를 갖는 특성의 데이터"
   ]
  },
  {
   "cell_type": "code",
   "execution_count": 91,
   "metadata": {
    "ExecuteTime": {
     "end_time": "2021-03-26T02:44:29.360311Z",
     "start_time": "2021-03-26T02:44:28.613516Z"
    }
   },
   "outputs": [
    {
     "data": {
      "text/plain": [
       "[<matplotlib.lines.Line2D at 0x22f79ca5550>]"
      ]
     },
     "execution_count": 91,
     "metadata": {},
     "output_type": "execute_result"
    },
    {
     "data": {
      "image/png": "[encoded data removed]",
      "text/plain": [
       "<Figure size 432x288 with 1 Axes>"
      ]
     },
     "metadata": {
      "needs_background": "light"
     },
     "output_type": "display_data"
    }
   ],
   "source": [
    "# x축을 log 스케일로 그리면(로그를 취하면)\n",
    "plt.xscale('log')\n",
    "plt.plot(x,y)"
   ]
  },
  {
   "cell_type": "markdown",
   "metadata": {},
   "source": [
    "### 카테고리 인코딩\n",
    "- 연속형 숫자 데이터를 카테고리형(범주형)으로 바꾸는 것\n",
    "- ex) 실력이 늘어나면 용돈을 더준다\n",
    "- 실력이 늘어나면 -> 등급이 올라가면과 같이 구간을 주어서 측정"
   ]
  },
  {
   "cell_type": "code",
   "execution_count": null,
   "metadata": {},
   "outputs": [],
   "source": [
    "# 키 데이터를 이용해 등급을 나누기\n",
    "# 표준편차를 기준으로\n",
    "# 평균을 기준으로 + - 표준편차 \n",
    "# small < 중심구간 - standard < tall"
   ]
  },
  {
   "cell_type": "code",
   "execution_count": 94,
   "metadata": {
    "ExecuteTime": {
     "end_time": "2021-03-26T02:55:59.440963Z",
     "start_time": "2021-03-26T02:55:59.432987Z"
    }
   },
   "outputs": [
    {
     "data": {
      "text/plain": [
       "키    4.104306\n",
       "dtype: float64"
      ]
     },
     "execution_count": 94,
     "metadata": {},
     "output_type": "execute_result"
    }
   ],
   "source": [
    "df[['키']].mean()\n",
    "df[['키']].std()"
   ]
  },
  {
   "cell_type": "code",
   "execution_count": 96,
   "metadata": {
    "ExecuteTime": {
     "end_time": "2021-03-26T02:56:41.752226Z",
     "start_time": "2021-03-26T02:56:41.733239Z"
    }
   },
   "outputs": [
    {
     "data": {
      "text/plain": [
       "(키    166.006934\n",
       " dtype: float64,\n",
       " 키    174.215546\n",
       " dtype: float64)"
      ]
     },
     "execution_count": 96,
     "metadata": {},
     "output_type": "execute_result"
    }
   ],
   "source": [
    "min = df[['키']].mean() - df[['키']].std()\n",
    "max = df[['키']].mean() + df[['키']].std()\n",
    "min,max"
   ]
  },
  {
   "cell_type": "code",
   "execution_count": null,
   "metadata": {},
   "outputs": [],
   "source": [
    "# tall 변수 구성비 확인\n",
    "df['tall'].value.counts()\n",
    "# 변수 구성비율 확인\n",
    "df['tall'].value.counts()*100/len(df)"
   ]
  },
  {
   "cell_type": "markdown",
   "metadata": {},
   "source": [
    "### 원 핫 인코딩\n",
    " - 카테고리 변수의 일반적인 표현 방법\n",
    "    - 데이터 분석에서 모든 데이터는 숫자로 바꿔서 표현해야함\n",
    " - pd.get_dummies"
   ]
  },
  {
   "cell_type": "code",
   "execution_count": null,
   "metadata": {},
   "outputs": [],
   "source": [
    "# tall 변수의 원핫인코딩\n",
    "# 오리지널 값이 아니고 더미변수를 만들어서 자기가 갖고 있는 값에만 1이 되게 정리\n",
    "df_tall = pd.get_dummies(df['tall'])\n",
    "df_tall.head()"
   ]
  },
  {
   "cell_type": "code",
   "execution_count": null,
   "metadata": {},
   "outputs": [],
   "source": [
    "# 데이터 프레임에 합치기(가로방향)\n",
    "df_all = pd.concat((df,df_tall),axis=1)\n",
    "df_all.head()"
   ]
  },
  {
   "cell_type": "markdown",
   "metadata": {},
   "source": [
    "### 최종 사용데이터\n",
    "- 여러가지 전처리된 데이터 중에서 필요한 부분만 선택하여 최종 데이터 분석에 사용\n",
    "- 일부 컬럼 선택"
   ]
  },
  {
   "cell_type": "code",
   "execution_count": 97,
   "metadata": {
    "ExecuteTime": {
     "end_time": "2021-03-26T04:18:15.197543Z",
     "start_time": "2021-03-26T04:18:15.177634Z"
    }
   },
   "outputs": [
    {
     "ename": "NameError",
     "evalue": "name 'df_all' is not defined",
     "output_type": "error",
     "traceback": [
      "\u001b[1;31m---------------------------------------------------------------------------\u001b[0m",
      "\u001b[1;31mNameError\u001b[0m                                 Traceback (most recent call last)",
      "\u001b[1;32m<ipython-input-97-284c03c83ed8>\u001b[0m in \u001b[0;36m<module>\u001b[1;34m\u001b[0m\n\u001b[0;32m      1\u001b[0m \u001b[1;31m# 모든 컬럼명 보기\u001b[0m\u001b[1;33m\u001b[0m\u001b[1;33m\u001b[0m\u001b[1;33m\u001b[0m\u001b[0m\n\u001b[1;32m----> 2\u001b[1;33m \u001b[0mdf_all\u001b[0m\u001b[1;33m.\u001b[0m\u001b[0mcolumns\u001b[0m\u001b[1;33m\u001b[0m\u001b[1;33m\u001b[0m\u001b[0m\n\u001b[0m",
      "\u001b[1;31mNameError\u001b[0m: name 'df_all' is not defined"
     ]
    }
   ],
   "source": [
    "# 모든 컬럼명 보기\n",
    "df_all.columns"
   ]
  },
  {
   "cell_type": "code",
   "execution_count": null,
   "metadata": {},
   "outputs": [],
   "source": [
    "X = df_all[['키_sc','몸무게_sc','large','small','standard']]"
   ]
  }
 ],
 "metadata": {
  "kernelspec": {
   "display_name": "Python 3",
   "language": "python",
   "name": "python3"
  },
  "language_info": {
   "codemirror_mode": {
    "name": "ipython",
    "version": 3
   },
   "file_extension": ".py",
   "mimetype": "text/x-python",
   "name": "python",
   "nbconvert_exporter": "python",
   "pygments_lexer": "ipython3",
   "version": "3.8.5"
  },
  "toc": {
   "base_numbering": 1,
   "nav_menu": {},
   "number_sections": true,
   "sideBar": true,
   "skip_h1_title": false,
   "title_cell": "Table of Contents",
   "title_sidebar": "Contents",
   "toc_cell": false,
   "toc_position": {},
   "toc_section_display": true,
   "toc_window_display": false
  },
  "varInspector": {
   "cols": {
    "lenName": 16,
    "lenType": 16,
    "lenVar": 40
   },
   "kernels_config": {
    "python": {
     "delete_cmd_postfix": "",
     "delete_cmd_prefix": "del ",
     "library": "var_list.py",
     "varRefreshCmd": "print(var_dic_list())"
    },
    "r": {
     "delete_cmd_postfix": ") ",
     "delete_cmd_prefix": "rm(",
     "library": "var_list.r",
     "varRefreshCmd": "cat(var_dic_list()) "
    }
   },
   "types_to_exclude": [
    "module",
    "function",
    "builtin_function_or_method",
    "instance",
    "_Feature"
   ],
   "window_display": false
  }
 },
 "nbformat": 4,
 "nbformat_minor": 4
}
