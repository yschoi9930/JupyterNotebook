{
 "cells": [
  {
   "cell_type": "markdown",
   "metadata": {},
   "source": [
    "## 통계적 가설 검정 개별 실습\n",
    "- A/B테스트 수행\n",
    "    - 임의로 나눈 둘 이상의 집단에 서로 다른 컨텐츠 제시한 뒤 가설검정을 이용하여 어느 컨텐츠에 대한 반응이 효과적인지를 파악"
   ]
  },
  {
   "cell_type": "markdown",
   "metadata": {},
   "source": [
    "### 문제 상황 \n",
    "-온라인 쇼핑몰 페이지 구성에 따른 다양한 실험 결과를 바탕으로 전환율이 최대가 되는 구성을 찾는다"
   ]
  },
  {
   "cell_type": "code",
   "execution_count": 1,
   "metadata": {},
   "outputs": [],
   "source": [
    "import os\n",
    "import pandas as pd\n",
    "import numpy as np"
   ]
  },
  {
   "cell_type": "markdown",
   "metadata": {},
   "source": [
    "1. 현황 파악\n",
    "    - 구매자수, 방문자수, 총판매금에 대한 기술 통계\n",
    "    - 일자별 방문자수 추이 파악\n",
    "    - 일자별 구매자수 추이 파악\n",
    "    - 일자별 총 판매 금액 추이 파악"
   ]
  },
  {
   "cell_type": "code",
   "execution_count": null,
   "metadata": {},
   "outputs": [],
   "source": [
    "df = pd.read_csv('')"
   ]
  },
  {
   "cell_type": "markdown",
   "metadata": {},
   "source": [
    "2. 상품배치와 상품 구매 금액에 따른 관계 분석\n",
    "    - 상품 배치에 따른 상품 구매 금액 평균 차이 분석(상품 구매 금액 0원 미포함)\n",
    "    - 상품 배치에 따른 상품 구매 금액 평균 차이 분석(상품 구매 금액 0원 포함)\n",
    "    - 구매여부와 상품 배치 간 독립성 파악"
   ]
  },
  {
   "cell_type": "markdown",
   "metadata": {},
   "source": [
    "3. 사이트맵 구성에 따른 체류 시간 차이 분석\n",
    "    - 사이트맵결 체류시간 평균 계산\n",
    "    - 사이트맵에 따른 체류 시간 평균 차이 분석\n",
    "    - 평균차이 분석 시각화"
   ]
  },
  {
   "cell_type": "markdown",
   "metadata": {},
   "source": [
    "4. 할인 쿠폰의 효과 분석\n",
    "    - 발행후와 전의 구매 횟수 차이에 대한 기술 통계\n",
    "    - 발행전, 발행후의구매 횟수에 대한 시각화\n",
    "    - 차이 유의성 검정"
   ]
  },
  {
   "cell_type": "markdown",
   "metadata": {},
   "source": [
    "5. 체류 시간과 구매 금액 간 관계 분석\n",
    "    - 구매 금액과 체류 시간의 관계 시각화\n",
    "    - 구매 금액과 체류 시간 간 관계 분석 "
   ]
  },
  {
   "cell_type": "markdown",
   "metadata": {},
   "source": [
    "6. 구매 버튼배치에 따른 구매율 차이분석\n",
    "    - 구매 버튼 배치와 구매율 간의 독립성 검정"
   ]
  }
 ],
 "metadata": {
  "kernelspec": {
   "display_name": "Python 3",
   "language": "python",
   "name": "python3"
  },
  "language_info": {
   "codemirror_mode": {
    "name": "ipython",
    "version": 3
   },
   "file_extension": ".py",
   "mimetype": "text/x-python",
   "name": "python",
   "nbconvert_exporter": "python",
   "pygments_lexer": "ipython3",
   "version": "3.8.5"
  }
 },
 "nbformat": 4,
 "nbformat_minor": 4
}
