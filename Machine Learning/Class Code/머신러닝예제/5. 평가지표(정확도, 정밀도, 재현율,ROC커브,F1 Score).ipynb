{
 "cells": [
  {
   "cell_type": "markdown",
   "metadata": {},
   "source": [
    "### 정확도\n",
    "- 정확도(Accuracy) = 예측 결과가 동일한 데이터 건수 / 전체 예측 데이터 건수\n",
    "- 직관적인 평가지표\n",
    "- 이진 분류의 경우 데이터 구성에 따라서 ML 모델의 성능을 왜곡할 수 있음 -정확도만으로 평가하지는 않는다\n",
    "- 불균형한 레이블 값 분포에서 ML 모델의 성능을 판단할 경우는 절때 사용하지 않는다"
   ]
  },
  {
   "cell_type": "code",
   "execution_count": 2,
   "metadata": {},
   "outputs": [],
   "source": [
    "### 타이타닉 데이터 셋을 이용한 분류 및 예측 - 더미클래스 생성 후 정확도 확인\n",
    "import numpy as np\n",
    "from sklearn.base import BaseEstimator ## 사이킷런 패키지의 모델 프레임\n",
    "\n",
    "class MyDummyClassifier(BaseEstimator) :\n",
    "    # fit 메서드는 아무것도 하지 않는다\n",
    "    def fit(self, X, y=None) :\n",
    "        pass\n",
    "    \n",
    "    ## predict()\n",
    "    def predict(self, X) :\n",
    "        pred = np.zeros((X.shape[0],1))\n",
    "        for i in range(X.shape[0]) :\n",
    "            if X['Sex'].iloc[i] == 1 :\n",
    "                pred[i] = 0\n",
    "            else : \n",
    "                pred[i] = 1\n",
    "        return pred\n",
    "    \n"
   ]
  },
  {
   "cell_type": "code",
   "execution_count": 3,
   "metadata": {},
   "outputs": [],
   "source": [
    "## 타이타닉 전처리 함수 수행타이타닉 전처리 함수 수행\n",
    "##  titanic 데이터 전처리 함수\n",
    "from sklearn.preprocessing import LabelEncoder\n",
    "\n",
    "# Null 처리 함수\n",
    "def fillna(df):\n",
    "    df['Age'].fillna(df['Age'].mean(),inplace=True)\n",
    "    df['Cabin'].fillna('N',inplace=True)\n",
    "    df['Embarked'].fillna('N',inplace=True)\n",
    "    df['Fare'].fillna(0,inplace=True)\n",
    "    return df\n",
    "\n",
    "# 머신러닝 알고리즘에 불필요한 속성 제거\n",
    "def drop_features(df):\n",
    "    df.drop(['PassengerId','Name','Ticket'],axis=1,inplace=True)\n",
    "    return df\n",
    "\n",
    "# 레이블 인코딩 수행. \n",
    "def format_features(df):\n",
    "    df['Cabin'] = df['Cabin'].str[:1]\n",
    "    features = ['Cabin','Sex','Embarked']\n",
    "    for feature in features:\n",
    "        le = LabelEncoder()\n",
    "        le = le.fit(df[feature])\n",
    "        df[feature] = le.transform(df[feature])\n",
    "    return df\n",
    "\n",
    "# 앞에서 설정한 Data Preprocessing 함수 호출\n",
    "def transform_features(df):\n",
    "    df = fillna(df)\n",
    "    df = drop_features(df)\n",
    "    df = format_features(df)\n",
    "    return df\n"
   ]
  },
  {
   "cell_type": "code",
   "execution_count": 5,
   "metadata": {},
   "outputs": [],
   "source": [
    "from sklearn.model_selection import train_test_split\n",
    "from sklearn.metrics import accuracy_score\n",
    "import pandas as pd\n",
    "## 원본데이터 재 로딩후 feature 데이터셋과 label 데이터 셋 추출\n",
    "## 데이터\n",
    "t_df = pd.read_csv('../data/titanic/titanic_train.csv')\n",
    "y_t_df = t_df['Survived']\n",
    "X_t_df = t_df.drop('Survived',axis=1)\n",
    "\n",
    "X_t_df = transform_features(X_t_df)\n",
    "\n",
    "\n",
    "X_train, X_test, y_train, y_test=train_test_split(X_t_df, y_t_df, \\\n",
    "                                                  test_size=0.2, random_state=11)\n"
   ]
  },
  {
   "cell_type": "code",
   "execution_count": 6,
   "metadata": {},
   "outputs": [
    {
     "name": "stdout",
     "output_type": "stream",
     "text": [
      "Dummy Classifier의 정확도는: 0.8324\n"
     ]
    }
   ],
   "source": [
    "myclf = MyDummyClassifier()\n",
    "myclf.fit(X_train, y_train)\n",
    "\n",
    "mypred = myclf.predict(X_test)\n",
    "print('Dummy Classifier의 정확도는: {0:.4f}'.format(accuracy_score(y_test,mypred)))"
   ]
  },
  {
   "cell_type": "code",
   "execution_count": 7,
   "metadata": {},
   "outputs": [],
   "source": [
    "### Minist 데이터셋을 이진 분류 데이터셋으로 변환 후 잘못된 정확도 확인 - 레이블 분포가 편중되었을 때\n",
    "from sklearn.datasets import load_digits\n",
    "from sklearn.model_selection import train_test_split\n",
    "from sklearn.base import BaseEstimator\n",
    "from sklearn.metrics import accuracy_score\n",
    "import numpy as np\n",
    "import pandas as pd"
   ]
  },
  {
   "cell_type": "code",
   "execution_count": 18,
   "metadata": {},
   "outputs": [],
   "source": [
    "class MyFakeClassifier(BaseEstimator) : \n",
    "    def fit(self,X,y) :\n",
    "        pass\n",
    "    \n",
    "    # 입력값으로 들어오는 X 데이터셋의 크기만큼 모두 0값으로 만들어서 반환\n",
    "    # 뭐가 들어오던지 전부 0으로 반환\n",
    "    def predict(self,X) :\n",
    "        return np.zeros((len(X),1),dtype=bool)"
   ]
  },
  {
   "cell_type": "code",
   "execution_count": 9,
   "metadata": {},
   "outputs": [
    {
     "name": "stdout",
     "output_type": "stream",
     "text": [
      "[[ 0.  0.  5. ...  0.  0.  0.]\n",
      " [ 0.  0.  0. ... 10.  0.  0.]\n",
      " [ 0.  0.  0. ... 16.  9.  0.]\n",
      " ...\n",
      " [ 0.  0.  1. ...  6.  0.  0.]\n",
      " [ 0.  0.  2. ... 12.  0.  0.]\n",
      " [ 0.  0. 10. ... 12.  1.  0.]]\n",
      "digits.data.shape :  (1797, 64)\n",
      "[0 1 2 ... 8 9 8]\n",
      "digits.target.shape :  (1797,)\n"
     ]
    }
   ],
   "source": [
    "# 사이킷런 내장 데이터 셋인 load_digits() MNIST 데이터 로딩\n",
    "digits = load_digits()\n",
    "print(digits.data)\n",
    "print('digits.data.shape : ', digits.data.shape)\n",
    "print(digits.target)\n",
    "print('digits.target.shape : ', digits.target.shape )"
   ]
  },
  {
   "cell_type": "code",
   "execution_count": 13,
   "metadata": {},
   "outputs": [
    {
     "data": {
      "text/plain": [
       "array([0, 0, 0, 0, 0, 0, 0, 1, 0, 0, 0, 0, 0, 0, 0, 0, 0, 1, 0, 0])"
      ]
     },
     "execution_count": 13,
     "metadata": {},
     "output_type": "execute_result"
    }
   ],
   "source": [
    "## 타겟변수의 값이 7인 경우 1 그나머지는 전부 0으로 타겟변수를 변환\n",
    "y = (digits.target == 7).astype(int)\n",
    "y[:20]\n",
    "# digits.target[:20]"
   ]
  },
  {
   "cell_type": "code",
   "execution_count": 14,
   "metadata": {},
   "outputs": [],
   "source": [
    "X_train, X_test, y_train, y_test = train_test_split( digits.data, y, random_state=11)"
   ]
  },
  {
   "cell_type": "code",
   "execution_count": 15,
   "metadata": {},
   "outputs": [
    {
     "name": "stdout",
     "output_type": "stream",
     "text": [
      "레이블 테스트 세트 크기 :  (450,)\n",
      "테스트 세트 레이블 0과 1의 분포도\n",
      "0    405\n",
      "1     45\n",
      "dtype: int64\n"
     ]
    }
   ],
   "source": [
    "# 불균형한 레이블 데이터 분포도 확인\n",
    "print('레이블 테스트 세트 크기 : ', y_test.shape)\n",
    "print('테스트 세트 레이블 0과 1의 분포도')\n",
    "print(pd.Series(y_test).value_counts())"
   ]
  },
  {
   "cell_type": "code",
   "execution_count": 20,
   "metadata": {},
   "outputs": [
    {
     "name": "stdout",
     "output_type": "stream",
     "text": [
      "모든 예측을 0으로 한 정확도 : 0.900\n"
     ]
    }
   ],
   "source": [
    "## Fake Classifier로 학습/예측/정확도 평가\n",
    "fakeclf = MyFakeClassifier()\n",
    "fakeclf.fit(X_train, y_train)\n",
    "fpred = fakeclf.predict(X_test)\n",
    "print('모든 예측을 0으로 한 정확도 : {:.3f}'.format(accuracy_score(y_test,fpred)))"
   ]
  },
  {
   "cell_type": "code",
   "execution_count": null,
   "metadata": {},
   "outputs": [],
   "source": []
  }
 ],
 "metadata": {
  "kernelspec": {
   "display_name": "Python 3",
   "language": "python",
   "name": "python3"
  },
  "language_info": {
   "codemirror_mode": {
    "name": "ipython",
    "version": 3
   },
   "file_extension": ".py",
   "mimetype": "text/x-python",
   "name": "python",
   "nbconvert_exporter": "python",
   "pygments_lexer": "ipython3",
   "version": "3.8.5"
  }
 },
 "nbformat": 4,
 "nbformat_minor": 4
}
