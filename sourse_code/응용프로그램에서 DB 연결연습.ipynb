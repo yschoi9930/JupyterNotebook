{
 "cells": [
  {
   "cell_type": "markdown",
   "metadata": {},
   "source": [
    "# 파이썬에서 MySQL을 사용할 수 있는 모듈 : 대표적으로 pymusql (설치 필요)\n",
    "\n",
    "## 라이브러리 소개 및 설치\n",
    "- 다양한 라이브러리(MySQLdb, MySQL connector 등 다양한 라이브러리 존재)\n",
    "- 이중에서 설치가 가장 쉬운 라이브러리\n",
    "- 설치방법 : pip install PyMySQL\n",
    "- 일반적인 MySQL 핸들링 코드 작성 순서\n",
    "    1. PyMySQL 모듈을 import : import pymysql\n",
    "    2. MySQL - MariaDB에 연결 : pymysql.connect() -> 변수로 저장해야 함!\n",
    "        - 인수로 호스트명, 포트, 사용자, 암호, 접속할DB 등을 인수로 전달\n",
    "    3. My SQL과 접속이 성공하면 connection 객체(로그인증명서)가 반환이 되면 커리를 실행할 수 있도록 Cursor 객체를 가져옴\n",
    "        - cursor() 호출\n",
    "        - curcor는 control structure of database\n",
    "    4. Cursor 객체의 excute() 매서드를 사용하여 쿼리문장을 DB 서버에게 전송\n",
    "    5. select 같이 데이터가 반환된 쿼리에 대해서는\n",
    "        - Cursor 객체의 fetchall(), fetchone(), fetchmany() 등의 매서드를 사용하여 서버로부터 가져온 데이터를 코드에서 활용\n",
    "    6. 삽입, 삭제, 갱신 DML 문장 : INSERT, UPDATE, DELETE 쿼리는 실행 후에 Connection 객체의 comit() 메서드를 사용해서 데이터를 확정\n",
    "    7. 사용이 끝나면 Connection 객체의 close() 메서드를 사용하여 DB 연결을 닫음"
   ]
  },
  {
   "cell_type": "code",
   "execution_count": 1,
   "metadata": {},
   "outputs": [],
   "source": [
    "# 모듈 install\n",
    "import pymysql"
   ]
  },
  {
   "cell_type": "markdown",
   "metadata": {},
   "source": [
    "pymysql.connect() 메소드를 사용하여 MySQL에 연결\n",
    "    - 호스트명, 포트, 사용자, 암호, 접속할 DB등을 파라미터로 지정\n",
    "    - 주요 파라미터\n",
    "       - host : 접속할 mysql server 주소\n",
    "       - port : 접속할 mysql server 의 포트번호\n",
    "       - user : mysql ID\n",
    "       - password : mysql ID 암호\n",
    "       - DB : 접속할 데이터베이스\n",
    "       - charset = 'utf8' : mysql에서 select하여 데이터를 가져올 때 한글이 깨질 수 있으므로 연결 설정에 넣어줌"
   ]
  },
  {
   "cell_type": "code",
   "execution_count": 2,
   "metadata": {},
   "outputs": [],
   "source": [
    "db = pymysql.connect(host='localhost', port = 3306, user = 'root', password = '0000', db='ecommerce', charset = 'utf8')"
   ]
  },
  {
   "cell_type": "code",
   "execution_count": 3,
   "metadata": {},
   "outputs": [
    {
     "data": {
      "text/plain": [
       "<pymysql.connections.Connection at 0x1756ee61be0>"
      ]
     },
     "execution_count": 3,
     "metadata": {},
     "output_type": "execute_result"
    }
   ],
   "source": [
    "db"
   ]
  },
  {
   "cell_type": "code",
   "execution_count": 4,
   "metadata": {},
   "outputs": [],
   "source": [
    "ecommerce = db.cursor()"
   ]
  },
  {
   "cell_type": "code",
   "execution_count": 5,
   "metadata": {},
   "outputs": [
    {
     "data": {
      "text/plain": [
       "<pymysql.cursors.Cursor at 0x1756ee61e80>"
      ]
     },
     "execution_count": 5,
     "metadata": {},
     "output_type": "execute_result"
    }
   ],
   "source": [
    "ecommerce"
   ]
  },
  {
   "cell_type": "code",
   "execution_count": null,
   "metadata": {},
   "outputs": [],
   "source": [
    "# 테이블 생성\n",
    "- Cursor Object 가져오기 cursor = db.cursor()\n",
    "- SQL 실행하기 : cursor.execute(SQL)\n",
    "- 실행 mysql 서버에 확정 반영하기 : db.commit()"
   ]
  },
  {
   "cell_type": "code",
   "execution_count": 6,
   "metadata": {},
   "outputs": [],
   "source": [
    "sql = \"\"\"\n",
    "    CREATE TABLE product (\n",
    "        PRODUCT_CODE VARCHAR(20) NOT NULL,\n",
    "        TITLE VARCHAR(200) NOT NULL,\n",
    "        ORI_PRICE INT,\n",
    "        DISCOUNT_PRICE INT,\n",
    "        DISCOUNT_PERCENT INT,\n",
    "        DELIVERY VARCHAR(2),\n",
    "        PRIMARY KEY(PRODUCT_CODE)\n",
    "    );\n",
    "\"\"\""
   ]
  },
  {
   "cell_type": "code",
   "execution_count": 7,
   "metadata": {},
   "outputs": [
    {
     "data": {
      "text/plain": [
       "0"
      ]
     },
     "execution_count": 7,
     "metadata": {},
     "output_type": "execute_result"
    }
   ],
   "source": [
    "ecommerce.execute(sql) # 쿼리구문 실행"
   ]
  },
  {
   "cell_type": "code",
   "execution_count": 8,
   "metadata": {},
   "outputs": [],
   "source": [
    "db.commit() # db 서버의 확정"
   ]
  },
  {
   "cell_type": "code",
   "execution_count": 9,
   "metadata": {},
   "outputs": [],
   "source": [
    "db.close() # db 연결 해제된다"
   ]
  }
 ],
 "metadata": {
  "kernelspec": {
   "display_name": "Python 3",
   "language": "python",
   "name": "python3"
  },
  "language_info": {
   "codemirror_mode": {
    "name": "ipython",
    "version": 3
   },
   "file_extension": ".py",
   "mimetype": "text/x-python",
   "name": "python",
   "nbconvert_exporter": "python",
   "pygments_lexer": "ipython3",
   "version": "3.8.5"
  }
 },
 "nbformat": 4,
 "nbformat_minor": 4
}
