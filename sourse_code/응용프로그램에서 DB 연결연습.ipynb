{
 "cells": [
  {
   "cell_type": "markdown",
   "metadata": {},
   "source": [
    "# 파이썬에서 MySQL을 사용할 수 있는 모듈 : 대표적으로 pymusql (설치 필요)\n",
    "\n",
    "## 라이브러리 소개 및 설치\n",
    "- 다양한 라이브러리(MySQLdb, MySQL connector 등 다양한 라이브러리 존재)\n",
    "- 이중에서 설치가 가장 쉬운 라이브러리\n",
    "- 설치방법 : pip install PyMySQL\n",
    "- 일반적인 MySQL 핸들링 코드 작성 순서\n",
    "    1. PyMySQL 모듈을 import : import pymysql\n",
    "    2. MySQL - MariaDB에 연결 : pymysql.connect() -> 변수로 저장해야 함!\n",
    "        - 인수로 호스트명, 포트, 사용자, 암호, 접속할DB 등을 인수로 전달\n",
    "    3. My SQL과 접속이 성공하면 connection 객체(로그인증명서)가 반환이 되면 커리를 실행할 수 있도록 Cursor 객체를 가져옴\n",
    "        - cursor() 호출\n",
    "        - curcor는 control structure of database\n",
    "    4. Cursor 객체의 excute() 매서드를 사용하여 쿼리문장을 DB 서버에게 전송\n",
    "    5. select 같이 데이터가 반환된 쿼리에 대해서는\n",
    "        - Cursor 객체의 fetchall(), fetchone(), fetchmany() 등의 매서드를 사용하여 서버로부터 가져온 데이터를 코드에서 활용\n",
    "    6. 삽입, 삭제, 갱신 DML 문장 : INSERT, UPDATE, DELETE 쿼리는 실행 후에 Connection 객체의 comit() 메서드를 사용해서 데이터를 확정\n",
    "    7. 사용이 끝나면 Connection 객체의 close() 메서드를 사용하여 DB 연결을 닫음"
   ]
  },
  {
   "cell_type": "code",
   "execution_count": 28,
   "metadata": {},
   "outputs": [],
   "source": [
    "# 모듈 install\n",
    "import pymysql"
   ]
  },
  {
   "cell_type": "markdown",
   "metadata": {},
   "source": [
    "pymysql.connect() 메소드를 사용하여 MySQL에 연결\n",
    "   - 호스트명, 포트, 사용자, 암호, 접속할 DB등을 파라미터로 지정\n",
    "   - 주요 파라미터\n",
    "       - host : 접속할 mysql server 주소\n",
    "       - port : 접속할 mysql server 의 포트번호\n",
    "       - user : mysql ID\n",
    "       - password : mysql ID 암호\n",
    "       - DB : 접속할 데이터베이스\n",
    "       - charset = 'utf8' : mysql에서 select하여 데이터를 가져올 때 한글이 깨질 수 있으므로 연결 설정에 넣어줌"
   ]
  },
  {
   "cell_type": "code",
   "execution_count": 29,
   "metadata": {},
   "outputs": [],
   "source": [
    "db = pymysql.connect(host='localhost', port = 3306, user = 'root', password = '0000', db='ecommerce', charset = 'utf8')"
   ]
  },
  {
   "cell_type": "code",
   "execution_count": 4,
   "metadata": {},
   "outputs": [
    {
     "data": {
      "text/plain": [
       "<pymysql.connections.Connection at 0x2b9a88bdc10>"
      ]
     },
     "execution_count": 4,
     "metadata": {},
     "output_type": "execute_result"
    }
   ],
   "source": [
    "db"
   ]
  },
  {
   "cell_type": "code",
   "execution_count": 30,
   "metadata": {},
   "outputs": [],
   "source": [
    "ecommerce = db.cursor()"
   ]
  },
  {
   "cell_type": "code",
   "execution_count": 23,
   "metadata": {},
   "outputs": [
    {
     "data": {
      "text/plain": [
       "<pymysql.cursors.Cursor at 0x2b9aa3f46a0>"
      ]
     },
     "execution_count": 23,
     "metadata": {},
     "output_type": "execute_result"
    }
   ],
   "source": [
    "ecommerce"
   ]
  },
  {
   "cell_type": "code",
   "execution_count": null,
   "metadata": {},
   "outputs": [],
   "source": [
    "# 테이블 생성\n",
    "- Cursor Object 가져오기 cursor = db.cursor()\n",
    "- SQL 실행하기 : cursor.execute(SQL)\n",
    "- 실행 mysql 서버에 확정 반영하기 : db.commit()"
   ]
  },
  {
   "cell_type": "code",
   "execution_count": 31,
   "metadata": {},
   "outputs": [],
   "source": [
    "sql = \"\"\"\n",
    "    CREATE TABLE product (\n",
    "        PRODUCT_CODE VARCHAR(20) NOT NULL,\n",
    "        TITLE VARCHAR(200) NOT NULL,\n",
    "        ORI_PRICE INT,\n",
    "        DISCOUNT_PRICE INT,\n",
    "        DISCOUNT_PERCENT INT,\n",
    "        DELIVERY VARCHAR(2),\n",
    "        PRIMARY KEY(PRODUCT_CODE)\n",
    "    );\n",
    "\"\"\""
   ]
  },
  {
   "cell_type": "code",
   "execution_count": 32,
   "metadata": {
    "scrolled": true
   },
   "outputs": [
    {
     "ename": "OperationalError",
     "evalue": "(1050, \"Table 'product' already exists\")",
     "output_type": "error",
     "traceback": [
      "\u001b[1;31m---------------------------------------------------------------------------\u001b[0m",
      "\u001b[1;31mOperationalError\u001b[0m                          Traceback (most recent call last)",
      "\u001b[1;32m<ipython-input-32-70e57033a7f5>\u001b[0m in \u001b[0;36m<module>\u001b[1;34m\u001b[0m\n\u001b[1;32m----> 1\u001b[1;33m \u001b[0mecommerce\u001b[0m\u001b[1;33m.\u001b[0m\u001b[0mexecute\u001b[0m\u001b[1;33m(\u001b[0m\u001b[0msql\u001b[0m\u001b[1;33m)\u001b[0m \u001b[1;31m# 쿼리구문 실행\u001b[0m\u001b[1;33m\u001b[0m\u001b[1;33m\u001b[0m\u001b[0m\n\u001b[0m",
      "\u001b[1;32m~\\anaconda3\\lib\\site-packages\\pymysql\\cursors.py\u001b[0m in \u001b[0;36mexecute\u001b[1;34m(self, query, args)\u001b[0m\n\u001b[0;32m    146\u001b[0m         \u001b[0mquery\u001b[0m \u001b[1;33m=\u001b[0m \u001b[0mself\u001b[0m\u001b[1;33m.\u001b[0m\u001b[0mmogrify\u001b[0m\u001b[1;33m(\u001b[0m\u001b[0mquery\u001b[0m\u001b[1;33m,\u001b[0m \u001b[0margs\u001b[0m\u001b[1;33m)\u001b[0m\u001b[1;33m\u001b[0m\u001b[1;33m\u001b[0m\u001b[0m\n\u001b[0;32m    147\u001b[0m \u001b[1;33m\u001b[0m\u001b[0m\n\u001b[1;32m--> 148\u001b[1;33m         \u001b[0mresult\u001b[0m \u001b[1;33m=\u001b[0m \u001b[0mself\u001b[0m\u001b[1;33m.\u001b[0m\u001b[0m_query\u001b[0m\u001b[1;33m(\u001b[0m\u001b[0mquery\u001b[0m\u001b[1;33m)\u001b[0m\u001b[1;33m\u001b[0m\u001b[1;33m\u001b[0m\u001b[0m\n\u001b[0m\u001b[0;32m    149\u001b[0m         \u001b[0mself\u001b[0m\u001b[1;33m.\u001b[0m\u001b[0m_executed\u001b[0m \u001b[1;33m=\u001b[0m \u001b[0mquery\u001b[0m\u001b[1;33m\u001b[0m\u001b[1;33m\u001b[0m\u001b[0m\n\u001b[0;32m    150\u001b[0m         \u001b[1;32mreturn\u001b[0m \u001b[0mresult\u001b[0m\u001b[1;33m\u001b[0m\u001b[1;33m\u001b[0m\u001b[0m\n",
      "\u001b[1;32m~\\anaconda3\\lib\\site-packages\\pymysql\\cursors.py\u001b[0m in \u001b[0;36m_query\u001b[1;34m(self, q)\u001b[0m\n\u001b[0;32m    308\u001b[0m         \u001b[0mself\u001b[0m\u001b[1;33m.\u001b[0m\u001b[0m_last_executed\u001b[0m \u001b[1;33m=\u001b[0m \u001b[0mq\u001b[0m\u001b[1;33m\u001b[0m\u001b[1;33m\u001b[0m\u001b[0m\n\u001b[0;32m    309\u001b[0m         \u001b[0mself\u001b[0m\u001b[1;33m.\u001b[0m\u001b[0m_clear_result\u001b[0m\u001b[1;33m(\u001b[0m\u001b[1;33m)\u001b[0m\u001b[1;33m\u001b[0m\u001b[1;33m\u001b[0m\u001b[0m\n\u001b[1;32m--> 310\u001b[1;33m         \u001b[0mconn\u001b[0m\u001b[1;33m.\u001b[0m\u001b[0mquery\u001b[0m\u001b[1;33m(\u001b[0m\u001b[0mq\u001b[0m\u001b[1;33m)\u001b[0m\u001b[1;33m\u001b[0m\u001b[1;33m\u001b[0m\u001b[0m\n\u001b[0m\u001b[0;32m    311\u001b[0m         \u001b[0mself\u001b[0m\u001b[1;33m.\u001b[0m\u001b[0m_do_get_result\u001b[0m\u001b[1;33m(\u001b[0m\u001b[1;33m)\u001b[0m\u001b[1;33m\u001b[0m\u001b[1;33m\u001b[0m\u001b[0m\n\u001b[0;32m    312\u001b[0m         \u001b[1;32mreturn\u001b[0m \u001b[0mself\u001b[0m\u001b[1;33m.\u001b[0m\u001b[0mrowcount\u001b[0m\u001b[1;33m\u001b[0m\u001b[1;33m\u001b[0m\u001b[0m\n",
      "\u001b[1;32m~\\anaconda3\\lib\\site-packages\\pymysql\\connections.py\u001b[0m in \u001b[0;36mquery\u001b[1;34m(self, sql, unbuffered)\u001b[0m\n\u001b[0;32m    546\u001b[0m             \u001b[0msql\u001b[0m \u001b[1;33m=\u001b[0m \u001b[0msql\u001b[0m\u001b[1;33m.\u001b[0m\u001b[0mencode\u001b[0m\u001b[1;33m(\u001b[0m\u001b[0mself\u001b[0m\u001b[1;33m.\u001b[0m\u001b[0mencoding\u001b[0m\u001b[1;33m,\u001b[0m \u001b[1;34m\"surrogateescape\"\u001b[0m\u001b[1;33m)\u001b[0m\u001b[1;33m\u001b[0m\u001b[1;33m\u001b[0m\u001b[0m\n\u001b[0;32m    547\u001b[0m         \u001b[0mself\u001b[0m\u001b[1;33m.\u001b[0m\u001b[0m_execute_command\u001b[0m\u001b[1;33m(\u001b[0m\u001b[0mCOMMAND\u001b[0m\u001b[1;33m.\u001b[0m\u001b[0mCOM_QUERY\u001b[0m\u001b[1;33m,\u001b[0m \u001b[0msql\u001b[0m\u001b[1;33m)\u001b[0m\u001b[1;33m\u001b[0m\u001b[1;33m\u001b[0m\u001b[0m\n\u001b[1;32m--> 548\u001b[1;33m         \u001b[0mself\u001b[0m\u001b[1;33m.\u001b[0m\u001b[0m_affected_rows\u001b[0m \u001b[1;33m=\u001b[0m \u001b[0mself\u001b[0m\u001b[1;33m.\u001b[0m\u001b[0m_read_query_result\u001b[0m\u001b[1;33m(\u001b[0m\u001b[0munbuffered\u001b[0m\u001b[1;33m=\u001b[0m\u001b[0munbuffered\u001b[0m\u001b[1;33m)\u001b[0m\u001b[1;33m\u001b[0m\u001b[1;33m\u001b[0m\u001b[0m\n\u001b[0m\u001b[0;32m    549\u001b[0m         \u001b[1;32mreturn\u001b[0m \u001b[0mself\u001b[0m\u001b[1;33m.\u001b[0m\u001b[0m_affected_rows\u001b[0m\u001b[1;33m\u001b[0m\u001b[1;33m\u001b[0m\u001b[0m\n\u001b[0;32m    550\u001b[0m \u001b[1;33m\u001b[0m\u001b[0m\n",
      "\u001b[1;32m~\\anaconda3\\lib\\site-packages\\pymysql\\connections.py\u001b[0m in \u001b[0;36m_read_query_result\u001b[1;34m(self, unbuffered)\u001b[0m\n\u001b[0;32m    773\u001b[0m         \u001b[1;32melse\u001b[0m\u001b[1;33m:\u001b[0m\u001b[1;33m\u001b[0m\u001b[1;33m\u001b[0m\u001b[0m\n\u001b[0;32m    774\u001b[0m             \u001b[0mresult\u001b[0m \u001b[1;33m=\u001b[0m \u001b[0mMySQLResult\u001b[0m\u001b[1;33m(\u001b[0m\u001b[0mself\u001b[0m\u001b[1;33m)\u001b[0m\u001b[1;33m\u001b[0m\u001b[1;33m\u001b[0m\u001b[0m\n\u001b[1;32m--> 775\u001b[1;33m             \u001b[0mresult\u001b[0m\u001b[1;33m.\u001b[0m\u001b[0mread\u001b[0m\u001b[1;33m(\u001b[0m\u001b[1;33m)\u001b[0m\u001b[1;33m\u001b[0m\u001b[1;33m\u001b[0m\u001b[0m\n\u001b[0m\u001b[0;32m    776\u001b[0m         \u001b[0mself\u001b[0m\u001b[1;33m.\u001b[0m\u001b[0m_result\u001b[0m \u001b[1;33m=\u001b[0m \u001b[0mresult\u001b[0m\u001b[1;33m\u001b[0m\u001b[1;33m\u001b[0m\u001b[0m\n\u001b[0;32m    777\u001b[0m         \u001b[1;32mif\u001b[0m \u001b[0mresult\u001b[0m\u001b[1;33m.\u001b[0m\u001b[0mserver_status\u001b[0m \u001b[1;32mis\u001b[0m \u001b[1;32mnot\u001b[0m \u001b[1;32mNone\u001b[0m\u001b[1;33m:\u001b[0m\u001b[1;33m\u001b[0m\u001b[1;33m\u001b[0m\u001b[0m\n",
      "\u001b[1;32m~\\anaconda3\\lib\\site-packages\\pymysql\\connections.py\u001b[0m in \u001b[0;36mread\u001b[1;34m(self)\u001b[0m\n\u001b[0;32m   1154\u001b[0m     \u001b[1;32mdef\u001b[0m \u001b[0mread\u001b[0m\u001b[1;33m(\u001b[0m\u001b[0mself\u001b[0m\u001b[1;33m)\u001b[0m\u001b[1;33m:\u001b[0m\u001b[1;33m\u001b[0m\u001b[1;33m\u001b[0m\u001b[0m\n\u001b[0;32m   1155\u001b[0m         \u001b[1;32mtry\u001b[0m\u001b[1;33m:\u001b[0m\u001b[1;33m\u001b[0m\u001b[1;33m\u001b[0m\u001b[0m\n\u001b[1;32m-> 1156\u001b[1;33m             \u001b[0mfirst_packet\u001b[0m \u001b[1;33m=\u001b[0m \u001b[0mself\u001b[0m\u001b[1;33m.\u001b[0m\u001b[0mconnection\u001b[0m\u001b[1;33m.\u001b[0m\u001b[0m_read_packet\u001b[0m\u001b[1;33m(\u001b[0m\u001b[1;33m)\u001b[0m\u001b[1;33m\u001b[0m\u001b[1;33m\u001b[0m\u001b[0m\n\u001b[0m\u001b[0;32m   1157\u001b[0m \u001b[1;33m\u001b[0m\u001b[0m\n\u001b[0;32m   1158\u001b[0m             \u001b[1;32mif\u001b[0m \u001b[0mfirst_packet\u001b[0m\u001b[1;33m.\u001b[0m\u001b[0mis_ok_packet\u001b[0m\u001b[1;33m(\u001b[0m\u001b[1;33m)\u001b[0m\u001b[1;33m:\u001b[0m\u001b[1;33m\u001b[0m\u001b[1;33m\u001b[0m\u001b[0m\n",
      "\u001b[1;32m~\\anaconda3\\lib\\site-packages\\pymysql\\connections.py\u001b[0m in \u001b[0;36m_read_packet\u001b[1;34m(self, packet_type)\u001b[0m\n\u001b[0;32m    723\u001b[0m             \u001b[1;32mif\u001b[0m \u001b[0mself\u001b[0m\u001b[1;33m.\u001b[0m\u001b[0m_result\u001b[0m \u001b[1;32mis\u001b[0m \u001b[1;32mnot\u001b[0m \u001b[1;32mNone\u001b[0m \u001b[1;32mand\u001b[0m \u001b[0mself\u001b[0m\u001b[1;33m.\u001b[0m\u001b[0m_result\u001b[0m\u001b[1;33m.\u001b[0m\u001b[0munbuffered_active\u001b[0m \u001b[1;32mis\u001b[0m \u001b[1;32mTrue\u001b[0m\u001b[1;33m:\u001b[0m\u001b[1;33m\u001b[0m\u001b[1;33m\u001b[0m\u001b[0m\n\u001b[0;32m    724\u001b[0m                 \u001b[0mself\u001b[0m\u001b[1;33m.\u001b[0m\u001b[0m_result\u001b[0m\u001b[1;33m.\u001b[0m\u001b[0munbuffered_active\u001b[0m \u001b[1;33m=\u001b[0m \u001b[1;32mFalse\u001b[0m\u001b[1;33m\u001b[0m\u001b[1;33m\u001b[0m\u001b[0m\n\u001b[1;32m--> 725\u001b[1;33m             \u001b[0mpacket\u001b[0m\u001b[1;33m.\u001b[0m\u001b[0mraise_for_error\u001b[0m\u001b[1;33m(\u001b[0m\u001b[1;33m)\u001b[0m\u001b[1;33m\u001b[0m\u001b[1;33m\u001b[0m\u001b[0m\n\u001b[0m\u001b[0;32m    726\u001b[0m         \u001b[1;32mreturn\u001b[0m \u001b[0mpacket\u001b[0m\u001b[1;33m\u001b[0m\u001b[1;33m\u001b[0m\u001b[0m\n\u001b[0;32m    727\u001b[0m \u001b[1;33m\u001b[0m\u001b[0m\n",
      "\u001b[1;32m~\\anaconda3\\lib\\site-packages\\pymysql\\protocol.py\u001b[0m in \u001b[0;36mraise_for_error\u001b[1;34m(self)\u001b[0m\n\u001b[0;32m    219\u001b[0m         \u001b[1;32mif\u001b[0m \u001b[0mDEBUG\u001b[0m\u001b[1;33m:\u001b[0m\u001b[1;33m\u001b[0m\u001b[1;33m\u001b[0m\u001b[0m\n\u001b[0;32m    220\u001b[0m             \u001b[0mprint\u001b[0m\u001b[1;33m(\u001b[0m\u001b[1;34m\"errno =\"\u001b[0m\u001b[1;33m,\u001b[0m \u001b[0merrno\u001b[0m\u001b[1;33m)\u001b[0m\u001b[1;33m\u001b[0m\u001b[1;33m\u001b[0m\u001b[0m\n\u001b[1;32m--> 221\u001b[1;33m         \u001b[0merr\u001b[0m\u001b[1;33m.\u001b[0m\u001b[0mraise_mysql_exception\u001b[0m\u001b[1;33m(\u001b[0m\u001b[0mself\u001b[0m\u001b[1;33m.\u001b[0m\u001b[0m_data\u001b[0m\u001b[1;33m)\u001b[0m\u001b[1;33m\u001b[0m\u001b[1;33m\u001b[0m\u001b[0m\n\u001b[0m\u001b[0;32m    222\u001b[0m \u001b[1;33m\u001b[0m\u001b[0m\n\u001b[0;32m    223\u001b[0m     \u001b[1;32mdef\u001b[0m \u001b[0mdump\u001b[0m\u001b[1;33m(\u001b[0m\u001b[0mself\u001b[0m\u001b[1;33m)\u001b[0m\u001b[1;33m:\u001b[0m\u001b[1;33m\u001b[0m\u001b[1;33m\u001b[0m\u001b[0m\n",
      "\u001b[1;32m~\\anaconda3\\lib\\site-packages\\pymysql\\err.py\u001b[0m in \u001b[0;36mraise_mysql_exception\u001b[1;34m(data)\u001b[0m\n\u001b[0;32m    141\u001b[0m     \u001b[1;32mif\u001b[0m \u001b[0merrorclass\u001b[0m \u001b[1;32mis\u001b[0m \u001b[1;32mNone\u001b[0m\u001b[1;33m:\u001b[0m\u001b[1;33m\u001b[0m\u001b[1;33m\u001b[0m\u001b[0m\n\u001b[0;32m    142\u001b[0m         \u001b[0merrorclass\u001b[0m \u001b[1;33m=\u001b[0m \u001b[0mInternalError\u001b[0m \u001b[1;32mif\u001b[0m \u001b[0merrno\u001b[0m \u001b[1;33m<\u001b[0m \u001b[1;36m1000\u001b[0m \u001b[1;32melse\u001b[0m \u001b[0mOperationalError\u001b[0m\u001b[1;33m\u001b[0m\u001b[1;33m\u001b[0m\u001b[0m\n\u001b[1;32m--> 143\u001b[1;33m     \u001b[1;32mraise\u001b[0m \u001b[0merrorclass\u001b[0m\u001b[1;33m(\u001b[0m\u001b[0merrno\u001b[0m\u001b[1;33m,\u001b[0m \u001b[0merrval\u001b[0m\u001b[1;33m)\u001b[0m\u001b[1;33m\u001b[0m\u001b[1;33m\u001b[0m\u001b[0m\n\u001b[0m",
      "\u001b[1;31mOperationalError\u001b[0m: (1050, \"Table 'product' already exists\")"
     ]
    }
   ],
   "source": [
    "ecommerce.execute(sql) # 쿼리구문 실행"
   ]
  },
  {
   "cell_type": "code",
   "execution_count": 8,
   "metadata": {},
   "outputs": [],
   "source": [
    "db.commit() # db 서버의 확정"
   ]
  },
  {
   "cell_type": "code",
   "execution_count": 9,
   "metadata": {},
   "outputs": [],
   "source": [
    "db.close() # db 연결 해제된다"
   ]
  },
  {
   "cell_type": "markdown",
   "metadata": {},
   "source": [
    "# 실습"
   ]
  },
  {
   "cell_type": "code",
   "execution_count": 53,
   "metadata": {
    "scrolled": false
   },
   "outputs": [
    {
     "name": "stdout",
     "output_type": "stream",
     "text": [
      "INSERT INTO product values('21576741',\n",
      "    '스위트바니 여름신상5900원~롱원피스티셔츠/긴팔/반팔', 23000, 6900, 70, 'F');\n",
      "INSERT INTO product values('21576742',\n",
      "    '스위트바니 여름신상5900원~롱원피스티셔츠/긴팔/반팔', 23000, 6900, 70, 'F');\n",
      "INSERT INTO product values('21576743',\n",
      "    '스위트바니 여름신상5900원~롱원피스티셔츠/긴팔/반팔', 23000, 6900, 70, 'F');\n",
      "INSERT INTO product values('21576744',\n",
      "    '스위트바니 여름신상5900원~롱원피스티셔츠/긴팔/반팔', 23000, 6900, 70, 'F');\n",
      "INSERT INTO product values('21576745',\n",
      "    '스위트바니 여름신상5900원~롱원피스티셔츠/긴팔/반팔', 23000, 6900, 70, 'F');\n",
      "INSERT INTO product values('21576746',\n",
      "    '스위트바니 여름신상5900원~롱원피스티셔츠/긴팔/반팔', 23000, 6900, 70, 'F');\n",
      "INSERT INTO product values('21576747',\n",
      "    '스위트바니 여름신상5900원~롱원피스티셔츠/긴팔/반팔', 23000, 6900, 70, 'F');\n",
      "INSERT INTO product values('21576748',\n",
      "    '스위트바니 여름신상5900원~롱원피스티셔츠/긴팔/반팔', 23000, 6900, 70, 'F');\n",
      "INSERT INTO product values('21576749',\n",
      "    '스위트바니 여름신상5900원~롱원피스티셔츠/긴팔/반팔', 23000, 6900, 70, 'F');\n",
      "INSERT INTO product values('21576750',\n",
      "    '스위트바니 여름신상5900원~롱원피스티셔츠/긴팔/반팔', 23000, 6900, 70, 'F');\n"
     ]
    }
   ],
   "source": [
    "# db 연결은 모듈별 서비스로 생각하면 메뉴별로 연결코드를 넣는 것이 일반 적\n",
    "# import pymysql\n",
    "\n",
    "import pymysql\n",
    "\n",
    "db = pymysql.connect(host='localhost', port = 3306, user = 'root', password = '0000', db='ecommerce', charset = 'utf8')\n",
    "ecommerce = db.cursor()\n",
    "# insert 연습\n",
    "for idx in range(10) :\n",
    "    product_code = 21576740 + idx + 1 # 제품코드는 변수로 생성\n",
    "    sql = \"\"\"INSERT INTO product values('\"\"\"+str(product_code)+\"\"\"',\n",
    "    '스위트바니 여름신상5900원~롱원피스티셔츠/긴팔/반팔', 23000, 6900, 70, 'F');\"\"\"\n",
    "    print(sql)\n",
    "    ecommerce.execute(sql)\n",
    "    \n",
    "db.commit()\n",
    "db.close()"
   ]
  },
  {
   "cell_type": "markdown",
   "metadata": {},
   "source": [
    "# 데이터 조회(SELECT)\n",
    "- cursor object 가져오기 : cursor = db.cursor\n",
    "- SQL 실행하기 : cursor.executes(SQL)\n",
    "- my sql 서버로부터 데이터 가져오기 : fetch 메서드 사용\n",
    "    - fectchall() : Fetch all the rows\n",
    "    - fetchmany(size=None): Fetch several rows\n",
    "    - fetchone() : Fetch the next row(레코드 한개를 반환 - 현재 커서위치에서 다음 레코드를 내려가서 반환)"
   ]
  },
  {
   "cell_type": "code",
   "execution_count": 54,
   "metadata": {},
   "outputs": [
    {
     "name": "stdout",
     "output_type": "stream",
     "text": [
      "('21576741', '스위트바니 여름신상5900원~롱원피스티셔츠/긴팔/반팔', 23000, 6900, 70, 'F')\n",
      "('21576742', '스위트바니 여름신상5900원~롱원피스티셔츠/긴팔/반팔', 23000, 6900, 70, 'F')\n"
     ]
    }
   ],
   "source": [
    "import pymysql\n",
    "\n",
    "db = pymysql.connect(host='localhost', port = 3306, user = 'root', password = '0000', db='ecommerce', charset = 'utf8')\n",
    "cursor = db.cursor()\n",
    "sql = \"select * from product\"\n",
    "cursor.execute(sql) # product 테이블의 모든 레코드가 table 형태로 반환\n",
    "# 반환되는 시점에 커서는 컬럼명을 포인트하고 있음\n",
    "result = cursor.fetchone() # 커서를 아래 레코드로 이동한 후 레코드 하나 반환\n",
    "print(result) # 테이블의 첫번째 레코드\n",
    "result = cursor.fetchone() # 커서를 아래 레코드로 이동한 후 레코드 하나 반환\n",
    "print(result) # 테이블의 두번째 레코드\n",
    "db.close()"
   ]
  },
  {
   "cell_type": "markdown",
   "metadata": {},
   "source": [
    "# 데이터 수정(UPDATE)\n",
    "- cursor object 가져오기 : cursor = db.cursor()\n",
    "- SQL 실행하기 : cursor.execute(SQL) - update구문\n",
    "- 실행 mysql 서버에 확정 반영하기 : db.commit()"
   ]
  },
  {
   "cell_type": "code",
   "execution_count": null,
   "metadata": {},
   "outputs": [],
   "source": [
    "# 달리삽린넨원피스 뷔스티에 썸머 가디건 코디전\n",
    "# 33,000원\n",
    "# 9,900원\n",
    "# 70\n",
    "\n",
    "# UPDATE product SET\n",
    "# title = '달리삽린넨원피스 뷔스티에 썸머 가디건 코디전'\n",
    "# ori price = 33000,\n",
    "# discount_pricediscount_price = 9900\n",
    "# discount_percent = 70,\n",
    "# where discount_code = '21576741'"
   ]
  },
  {
   "cell_type": "code",
   "execution_count": 59,
   "metadata": {},
   "outputs": [],
   "source": [
    "# 1. 라이브러리 가져오기\n",
    "import pymysql\n",
    "\n",
    "# 2. 접속하기 \n",
    "db = pymysql.connect(host = 'localhost', port = 3306, user = 'root', password ='0000', db = 'ecommerce', charset = 'utf8')\n",
    "\n",
    "# 3. 커서가져오기\n",
    "ecommerce = db.cursor()\n",
    "\n",
    "# 4. SQL 구문 만들기\n",
    "SQL =\"\"\"\n",
    "UPDATE product SET\n",
    "title = '달리삽린넨원피스 뷔스티에 썸머 가디건 코디전',\n",
    "ori_price = 33000,\n",
    "discount_price = 9900,\n",
    "discount_percent = 70\n",
    "where product_code = '21576741'\n",
    "\"\"\"\n",
    "\n",
    "# 5. SQL 구문 실행하기\n",
    "ecommerce.execute(SQL)\n",
    "\n",
    "# 6. db commit 하기\n",
    "db.commit()\n",
    "\n",
    "# 7. close()\n",
    "db.close()"
   ]
  },
  {
   "cell_type": "markdown",
   "metadata": {},
   "source": [
    "# 데이터 삭제(DELETE)\n"
   ]
  },
  {
   "cell_type": "code",
   "execution_count": null,
   "metadata": {},
   "outputs": [],
   "source": [
    "DELETE FROM product WHERE product_code='21576741'"
   ]
  },
  {
   "cell_type": "code",
   "execution_count": 60,
   "metadata": {},
   "outputs": [],
   "source": [
    "# 1. 라이브러리 가져오기\n",
    "import pymysql\n",
    "\n",
    "# 2. 접속하기 \n",
    "db = pymysql.connect(host = 'localhost', port = 3306, user = 'root', password ='0000', db = 'ecommerce', charset = 'utf8')\n",
    "\n",
    "# 3. 커서가져오기\n",
    "ecommerce = db.cursor()\n",
    "\n",
    "# 4. SQL 구문 만들기\n",
    "SQL =\"\"\"\n",
    "DELETE FROM product WHERE product_code='21576741'\n",
    "\"\"\"\n",
    "\n",
    "# 5. SQL 구문 실행하기\n",
    "ecommerce.execute(SQL)\n",
    "\n",
    "# 6. db commit 하기\n",
    "db.commit()\n",
    "\n",
    "# 7. close()\n",
    "db.close()"
   ]
  },
  {
   "cell_type": "markdown",
   "metadata": {},
   "source": [
    "# 연습문제\n",
    "> 위 pymysql 샘플코드를 참고해서 다음과 같이 작업하기\n",
    "insert 모듈과 create table 모듈을 분리해서 작업(각각 연결 따로할 것)\n",
    "\n",
    "## 웹페이지(http://www.enuri.com/list.jsp?cate=0707010)에서 1위 ~ 10위까지 데이터 입력하기\n",
    "\n",
    "테이블명 : best\n",
    "   \n",
    "- id는 자동증가\n",
    "- name은 코어이름\n",
    "- model_num은 코어모델번호\n",
    "- model_type은 코드명\n",
    "\n",
    "### 예 : 코어 i7 7700 카비레이크\n",
    "- name : i7\n",
    "- model_num : 7700\n",
    "- model_type : 카비레이크"
   ]
  },
  {
   "cell_type": "code",
   "execution_count": 66,
   "metadata": {},
   "outputs": [],
   "source": [
    "# create table\n",
    "\n",
    "import pymysql\n",
    "db = pymysql.connect(host = 'localhost', port = 3306, user = 'root', passwd = '0000', db = 'ecommerce', charset = 'utf8' )\n",
    "ecommerce = db.cursor()\n",
    "SQL = \"\"\"\n",
    "CREATE TABLE best2(\n",
    "id int AUTO_INCREMENT NOT NULL,\n",
    "name VARCHAR(20) NOT NULL,\n",
    "model_num VARCHAR(30) NOT NULL,\n",
    "model_type VARCHAR(30) NOT NULL,\n",
    "PRIMARY KEY(id)\n",
    ");\n",
    "\"\"\"\n",
    "ecommerce.execute(SQL)\n",
    "db.commit()\n",
    "db.close()"
   ]
  },
  {
   "cell_type": "code",
   "execution_count": 90,
   "metadata": {},
   "outputs": [],
   "source": [
    "# insert\n",
    "\n",
    "import pymysql\n",
    "db = pymysql.connect(host ='localhost', port = 3306, user ='root', passwd = '0000', db = 'ecommerce', charset = 'utf8')\n",
    "ecommerce = db.cursor()\n",
    "\n",
    "# SQL = \"\"\" INSERT INTO best2 (name, model_num, model_type) values ('i5','10400F', '코멧레이크S');\n",
    "#           INSERT INTO best2 values('i9','10900K', '코멧레이크S'); \n",
    "#           INSERT INTO best2 values('i3','10100', '코멧레이크S'); \n",
    "#           INSERT INTO best2 values('인텔셀러론','G4900', '커피레이크');\n",
    "#           INSERT INTO best2 values('i5','9400F', '커피레이크'); \n",
    "#           insert into best values ('i3','10100F', '코멧레이크S'); \n",
    "#           insert into best values ('i7','10700K', '코멧레이크S');\n",
    "#           insert into best values ('i7','10400KF', '코멧레이크S');\n",
    "#           \"\"\"\n",
    "\n",
    "# -> cursor.execute() 로는 실행이 되지 않음\n",
    "# 여러개의 insert 문을 한번에 실핼할 때\n",
    "# executemany(query, values)\n",
    "# query : sql 문장을 입력 값은 포맷문자 사용해서 미정으로 처리\n",
    "query = \"INSERT INTO best2 (name, model_num, model_type) values (%s, %s, %s); \"\n",
    "# values: query에서 미정된 값을 튜플 형태로 구성, 값 튜플이 여러개면 리스트안에 튜플을 나열한다.\n",
    "values = [\n",
    "    ('i5','10400F', '코멧레이크S'),\n",
    "    ('i9','10900K', '코멧레이크S'),\n",
    "    ('i3','10100', '코멧레이크S'),\n",
    "    ('인텔셀러론','G4900', '커피레이크'),\n",
    "    ('i5','9400F', '커피레이크'),\n",
    "    ('i3','10100F', '코멧레이크S'),\n",
    "    ('i7','10700K', '코멧레이크S'),\n",
    "    ('i7','10400KF', '코멧레이크S')\n",
    "]\n",
    "\n",
    "\n",
    "ecommerce.executemany(query,values) # execute 앞에는 커서명이 들어와야 한다\n",
    "\n",
    "db.commit()\n",
    "\n",
    "db.close()"
   ]
  },
  {
   "cell_type": "markdown",
   "metadata": {},
   "source": [
    "# pandas 라이브러리와 pymysql\n",
    "\n",
    "1. read_sql()\n",
    "- pandas 라이브러리 함수로 접속된 dbms를 통해 sql 결과를 바로 읽어온다"
   ]
  },
  {
   "cell_type": "code",
   "execution_count": 74,
   "metadata": {},
   "outputs": [],
   "source": [
    "import pymysql\n",
    "import pandas as pd"
   ]
  },
  {
   "cell_type": "code",
   "execution_count": 81,
   "metadata": {},
   "outputs": [],
   "source": [
    "host_name = 'localhost'\n",
    "host_port = 3306\n",
    "username = 'root'\n",
    "password = '0000'\n",
    "database_name = '판매'"
   ]
  },
  {
   "cell_type": "code",
   "execution_count": 82,
   "metadata": {},
   "outputs": [],
   "source": [
    "db = pymysql.connect(\n",
    "    host = host_name,\n",
    "    port = host_port,\n",
    "    user = username,\n",
    "    passwd=password,\n",
    "    db=database_name,\n",
    "    charset='utf8')"
   ]
  },
  {
   "cell_type": "markdown",
   "metadata": {},
   "source": [
    "# pandas.read_sql(쿼리, 연결된 db connection 객체)"
   ]
  },
  {
   "cell_type": "code",
   "execution_count": 83,
   "metadata": {},
   "outputs": [],
   "source": [
    "sql =\"show tables\" # 해당 db에 존재하는 테이블의 목록을 출력하는 쿼리문"
   ]
  },
  {
   "cell_type": "code",
   "execution_count": 84,
   "metadata": {},
   "outputs": [],
   "source": [
    "df=pd.read_sql(sql,db)"
   ]
  },
  {
   "cell_type": "code",
   "execution_count": 85,
   "metadata": {},
   "outputs": [
    {
     "data": {
      "text/html": [
       "<div>\n",
       "<style scoped>\n",
       "    .dataframe tbody tr th:only-of-type {\n",
       "        vertical-align: middle;\n",
       "    }\n",
       "\n",
       "    .dataframe tbody tr th {\n",
       "        vertical-align: top;\n",
       "    }\n",
       "\n",
       "    .dataframe thead th {\n",
       "        text-align: right;\n",
       "    }\n",
       "</style>\n",
       "<table border=\"1\" class=\"dataframe\">\n",
       "  <thead>\n",
       "    <tr style=\"text-align: right;\">\n",
       "      <th></th>\n",
       "      <th>Tables_in_판매</th>\n",
       "    </tr>\n",
       "  </thead>\n",
       "  <tbody>\n",
       "    <tr>\n",
       "      <th>0</th>\n",
       "      <td>고객</td>\n",
       "    </tr>\n",
       "    <tr>\n",
       "      <th>1</th>\n",
       "      <td>배송업체</td>\n",
       "    </tr>\n",
       "    <tr>\n",
       "      <th>2</th>\n",
       "      <td>제품</td>\n",
       "    </tr>\n",
       "    <tr>\n",
       "      <th>3</th>\n",
       "      <td>주문</td>\n",
       "    </tr>\n",
       "  </tbody>\n",
       "</table>\n",
       "</div>"
      ],
      "text/plain": [
       "  Tables_in_판매\n",
       "0           고객\n",
       "1         배송업체\n",
       "2           제품\n",
       "3           주문"
      ]
     },
     "execution_count": 85,
     "metadata": {},
     "output_type": "execute_result"
    }
   ],
   "source": [
    "df"
   ]
  },
  {
   "cell_type": "code",
   "execution_count": 86,
   "metadata": {},
   "outputs": [
    {
     "data": {
      "text/html": [
       "<div>\n",
       "<style scoped>\n",
       "    .dataframe tbody tr th:only-of-type {\n",
       "        vertical-align: middle;\n",
       "    }\n",
       "\n",
       "    .dataframe tbody tr th {\n",
       "        vertical-align: top;\n",
       "    }\n",
       "\n",
       "    .dataframe thead th {\n",
       "        text-align: right;\n",
       "    }\n",
       "</style>\n",
       "<table border=\"1\" class=\"dataframe\">\n",
       "  <thead>\n",
       "    <tr style=\"text-align: right;\">\n",
       "      <th></th>\n",
       "      <th>고객아이디</th>\n",
       "      <th>고객이름</th>\n",
       "      <th>나이</th>\n",
       "      <th>등급</th>\n",
       "      <th>직업</th>\n",
       "      <th>적립금</th>\n",
       "    </tr>\n",
       "  </thead>\n",
       "  <tbody>\n",
       "    <tr>\n",
       "      <th>0</th>\n",
       "      <td>apple</td>\n",
       "      <td>정소화</td>\n",
       "      <td>20.0</td>\n",
       "      <td>gold</td>\n",
       "      <td>학생</td>\n",
       "      <td>1000</td>\n",
       "    </tr>\n",
       "    <tr>\n",
       "      <th>1</th>\n",
       "      <td>banana</td>\n",
       "      <td>김선우</td>\n",
       "      <td>25.0</td>\n",
       "      <td>vip</td>\n",
       "      <td>간호사</td>\n",
       "      <td>2500</td>\n",
       "    </tr>\n",
       "    <tr>\n",
       "      <th>2</th>\n",
       "      <td>carrot</td>\n",
       "      <td>고명석</td>\n",
       "      <td>28.0</td>\n",
       "      <td>gold</td>\n",
       "      <td>교사</td>\n",
       "      <td>4500</td>\n",
       "    </tr>\n",
       "    <tr>\n",
       "      <th>3</th>\n",
       "      <td>melon</td>\n",
       "      <td>성원용</td>\n",
       "      <td>35.0</td>\n",
       "      <td>gold</td>\n",
       "      <td>회사원</td>\n",
       "      <td>5000</td>\n",
       "    </tr>\n",
       "    <tr>\n",
       "      <th>4</th>\n",
       "      <td>orange</td>\n",
       "      <td>김용욱</td>\n",
       "      <td>22.0</td>\n",
       "      <td>silver</td>\n",
       "      <td>학생</td>\n",
       "      <td>0</td>\n",
       "    </tr>\n",
       "    <tr>\n",
       "      <th>5</th>\n",
       "      <td>peach</td>\n",
       "      <td>오형준</td>\n",
       "      <td>NaN</td>\n",
       "      <td>silver</td>\n",
       "      <td>의사</td>\n",
       "      <td>300</td>\n",
       "    </tr>\n",
       "    <tr>\n",
       "      <th>6</th>\n",
       "      <td>pear</td>\n",
       "      <td>채광주</td>\n",
       "      <td>31.0</td>\n",
       "      <td>silver</td>\n",
       "      <td>회사원</td>\n",
       "      <td>500</td>\n",
       "    </tr>\n",
       "    <tr>\n",
       "      <th>7</th>\n",
       "      <td>strawberry</td>\n",
       "      <td>최유경</td>\n",
       "      <td>30.0</td>\n",
       "      <td>vip</td>\n",
       "      <td>공무원</td>\n",
       "      <td>100</td>\n",
       "    </tr>\n",
       "  </tbody>\n",
       "</table>\n",
       "</div>"
      ],
      "text/plain": [
       "        고객아이디 고객이름    나이      등급   직업   적립금\n",
       "0       apple  정소화  20.0    gold   학생  1000\n",
       "1      banana  김선우  25.0     vip  간호사  2500\n",
       "2      carrot  고명석  28.0    gold   교사  4500\n",
       "3       melon  성원용  35.0    gold  회사원  5000\n",
       "4      orange  김용욱  22.0  silver   학생     0\n",
       "5       peach  오형준   NaN  silver   의사   300\n",
       "6        pear  채광주  31.0  silver  회사원   500\n",
       "7  strawberry  최유경  30.0     vip  공무원   100"
      ]
     },
     "execution_count": 86,
     "metadata": {},
     "output_type": "execute_result"
    }
   ],
   "source": [
    "sql = 'select * from 고객'\n",
    "df=pd.read_sql(sql,db)\n",
    "df"
   ]
  },
  {
   "cell_type": "code",
   "execution_count": 88,
   "metadata": {},
   "outputs": [],
   "source": [
    "df.to_csv('고객.csv', sep=',',index = False, encoding='utf8')"
   ]
  }
 ],
 "metadata": {
  "kernelspec": {
   "display_name": "Python 3",
   "language": "python",
   "name": "python3"
  },
  "language_info": {
   "codemirror_mode": {
    "name": "ipython",
    "version": 3
   },
   "file_extension": ".py",
   "mimetype": "text/x-python",
   "name": "python",
   "nbconvert_exporter": "python",
   "pygments_lexer": "ipython3",
   "version": "3.8.5"
  }
 },
 "nbformat": 4,
 "nbformat_minor": 4
}
