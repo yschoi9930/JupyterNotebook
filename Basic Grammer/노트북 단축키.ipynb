{
 "cells": [
  {
   "cell_type": "markdown",
   "metadata": {},
   "source": [
    "# 주피터 노트북 단축키 설명\n",
    "\n",
    "## 1. 셀 선택모드(esc 또는 ctrl + m)에서 사용할 수 있는 단축키 -셀 테두리가 파란색\n",
    "- 위로 셀 추가 `a`\n",
    "- 아래로 셀 추가 `b`\n",
    "- 선택 셀 삭제 `d` `d`\n",
    "- 선택 셀 복사하기 `c`\n",
    "- 선택 셀 붙여넣기 `p`\n",
    "- 선택 셀과 아래 셀 합치기 `shift` + `m`\n",
    "- 코드 입력일 때 실행 결과창 열기/닫기 `o`\n",
    "- Markdown 으로 변경 `m`\n",
    "- Code로 변경 `v`\n",
    "- 저장 `ctrl` + `s` or `s`\n",
    "- 선택 셀의 코드 입력 모드 `enter`\n"
   ]
  },
  {
   "cell_type": "markdown",
   "metadata": {},
   "source": [
    "## 2. 코드 입력 모드(Edit Mode) 에서 사용하는 단축키\n",
    "> Edit Mode : enter을 눌러 셀이 초록색이 된 상태\n",
    "\n",
    "- 편집셀의 코드 전체 선택 `ctrl` + `a`\n",
    "- 편집셀 내 실행 취소 `ctrl` + `z`\n",
    "- 편집셀 다시 실행 `ctrl` + `y`\n",
    "- 커서 위치한 라인 주석처리 `ctrl` + `/`\n",
    "- 편집 중인 셀 코드 실행 `ctrl` + `enter`\n",
    "- 편집 중인 셀 코드 실행 후 다음 셀로 이동(다음 셀이 없으면 새로 추가) `shift` + `enter`\n",
    "- 커서 위치에서 셀 둘로 나누기 `shift` + `ctrl` + `-`\n",
    "- 파일 저장 `ctrl` + `s`\n",
    "- 셀 선택 모드로 돌아가기  `esc` or `ctrl` + `m`"
   ]
  }
 ],
 "metadata": {
  "kernelspec": {
   "display_name": "Python 3",
   "language": "python",
   "name": "python3"
  },
  "language_info": {
   "codemirror_mode": {
    "name": "ipython",
    "version": 3
   },
   "file_extension": ".py",
   "mimetype": "text/x-python",
   "name": "python",
   "nbconvert_exporter": "python",
   "pygments_lexer": "ipython3",
   "version": "3.8.5"
  }
 },
 "nbformat": 4,
 "nbformat_minor": 4
}
