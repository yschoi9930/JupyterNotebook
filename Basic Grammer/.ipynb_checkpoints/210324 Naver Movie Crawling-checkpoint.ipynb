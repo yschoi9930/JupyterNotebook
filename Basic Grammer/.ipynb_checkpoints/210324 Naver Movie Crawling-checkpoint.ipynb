{
 "cells": [
  {
   "cell_type": "code",
   "execution_count": 2,
   "metadata": {
    "ExecuteTime": {
     "end_time": "2021-03-24T06:13:22.550814Z",
     "start_time": "2021-03-24T06:13:22.547073Z"
    }
   },
   "outputs": [],
   "source": [
    "import pandas as pd\n",
    "import numpy as np\n",
    "from urllib.request import urlopen\n",
    "from urllib.request import Request\n",
    "from urllib.parse import urljoin\n",
    "from bs4 import BeautifulSoup"
   ]
  },
  {
   "cell_type": "code",
   "execution_count": 5,
   "metadata": {
    "ExecuteTime": {
     "end_time": "2021-03-24T06:16:28.005884Z",
     "start_time": "2021-03-24T06:16:28.000906Z"
    }
   },
   "outputs": [],
   "source": [
    "url_base = 'https://movie.naver.com/'\n",
    "url_sub = '/movie/sdb/rank/rmovie.nhn?sel=cur&date=20210324'\n",
    "url = urljoin(url_base,url_sub)"
   ]
  },
  {
   "cell_type": "code",
   "execution_count": 6,
   "metadata": {
    "ExecuteTime": {
     "end_time": "2021-03-24T06:16:29.317164Z",
     "start_time": "2021-03-24T06:16:29.127650Z"
    }
   },
   "outputs": [
    {
     "name": "stderr",
     "output_type": "stream",
     "text": [
      "C:\\Users\\choi yeseul\\anaconda3\\lib\\site-packages\\bs4\\__init__.py:177: UserWarning: No parser was explicitly specified, so I'm using the best available HTML parser for this system (\"lxml\"). This usually isn't a problem, but if you run this code on another system, or in a different virtual environment, it may use a different parser and behave differently.\n",
      "\n",
      "The code that caused this warning is on line 194 of the file C:\\Users\\choi yeseul\\anaconda3\\lib\\runpy.py. To get rid of this warning, change code that looks like this:\n",
      "\n",
      " BeautifulSoup(YOUR_MARKUP})\n",
      "\n",
      "to this:\n",
      "\n",
      " BeautifulSoup(YOUR_MARKUP, \"lxml\")\n",
      "\n",
      "  warnings.warn(self.NO_PARSER_SPECIFIED_WARNING % dict(\n"
     ]
    }
   ],
   "source": [
    "# 페이지 요청 \n",
    "html = urlopen(url)\n",
    "\n",
    "# 데이터 파서에 저장\n",
    "soup = BeautifulSoup(html)\n"
   ]
  },
  {
   "cell_type": "code",
   "execution_count": 21,
   "metadata": {
    "ExecuteTime": {
     "end_time": "2021-03-24T06:26:49.297364Z",
     "start_time": "2021-03-24T06:26:49.250462Z"
    }
   },
   "outputs": [
    {
     "data": {
      "text/plain": [
       "50"
      ]
     },
     "execution_count": 21,
     "metadata": {},
     "output_type": "execute_result"
    }
   ],
   "source": [
    "# 50위까지 영화 title 추출\n",
    "soup.find_all('div','tit5')\n",
    "soup.find_all('div','tit5')[0]\n",
    "soup.find_all('div','tit5')[0].a.string\n",
    "soup.find_all('div','tit5')[0].a.text\n",
    "soup.find_all('div','tit5')[0].a.get_text()\n",
    "\n",
    "len(soup.find_all('div','tit5'))"
   ]
  },
  {
   "cell_type": "code",
   "execution_count": 28,
   "metadata": {
    "ExecuteTime": {
     "end_time": "2021-03-24T06:30:32.706290Z",
     "start_time": "2021-03-24T06:30:32.435674Z"
    },
    "collapsed": true
   },
   "outputs": [
    {
     "data": {
      "text/plain": [
       "['극장판 바이올렛 에버가든',\n",
       " '반지의 제왕: 왕의 귀환',\n",
       " '동주',\n",
       " '반지의 제왕: 두 개의 탑',\n",
       " '부활: 그 증거',\n",
       " '극장판 귀멸의 칼날: 무한열차편',\n",
       " '소울',\n",
       " '반지의 제왕: 반지 원정대',\n",
       " '나, 다니엘 블레이크',\n",
       " '똥파리',\n",
       " '러빙 빈센트',\n",
       " '해피 투게더',\n",
       " '라야와 마지막 드래곤',\n",
       " '러브레터',\n",
       " '극장판 쿠로코의 농구 라스트 게임',\n",
       " '타오르는 여인의 초상',\n",
       " '더 헌트',\n",
       " '극장판 소드 아트 온라인 -오디널 스케일-',\n",
       " '남매의 여름밤',\n",
       " '러브 액츄얼리',\n",
       " '중경삼림',\n",
       " '아이',\n",
       " '달라스 바이어스 클럽',\n",
       " '너의 이름은.',\n",
       " '화양연화',\n",
       " '소공녀',\n",
       " '더 포스트',\n",
       " '찬실이는 복도 많지',\n",
       " '당신, 거기 있어줄래요',\n",
       " '세자매',\n",
       " '분노',\n",
       " '빅쇼트',\n",
       " '러브 라이브! 더 스쿨 아이돌 무비',\n",
       " '아비정전',\n",
       " '허트 로커',\n",
       " '콜드 워',\n",
       " '클로저',\n",
       " '국가부도의 날',\n",
       " '하나와 앨리스',\n",
       " '해리 포터와 불의 잔',\n",
       " '날씨의 아이',\n",
       " '미나리',\n",
       " '마진 콜: 24시간, 조작된 진실',\n",
       " '철벽선생',\n",
       " '톰과 제리',\n",
       " '미션 파서블',\n",
       " '은혼',\n",
       " '펭귄 하이웨이',\n",
       " '쏘아올린 불꽃, 밑에서 볼까? 옆에서 볼까?',\n",
       " '불한당: 나쁜 놈들의 세상']"
      ]
     },
     "execution_count": 28,
     "metadata": {},
     "output_type": "execute_result"
    }
   ],
   "source": [
    "# title 50개 추출해서 list로 구성\n",
    "movie_name = [soup.find_all('div','tit5')[n].a.get_text() for n in range(0,50)]\n",
    "movie_name"
   ]
  },
  {
   "cell_type": "code",
   "execution_count": 22,
   "metadata": {
    "ExecuteTime": {
     "end_time": "2021-03-24T06:27:43.170096Z",
     "start_time": "2021-03-24T06:27:43.147232Z"
    }
   },
   "outputs": [
    {
     "data": {
      "text/plain": [
       "50"
      ]
     },
     "execution_count": 22,
     "metadata": {},
     "output_type": "execute_result"
    }
   ],
   "source": [
    "# 50위까지 영화 평점 추출\n",
    "soup.find_all('td','point')[0].text\n",
    "len(soup.find_all('div','tit5'))"
   ]
  },
  {
   "cell_type": "code",
   "execution_count": 35,
   "metadata": {
    "ExecuteTime": {
     "end_time": "2021-03-24T06:38:49.264665Z",
     "start_time": "2021-03-24T06:38:48.598002Z"
    }
   },
   "outputs": [
    {
     "data": {
      "text/plain": [
       "['9.49',\n",
       " '9.38',\n",
       " '9.37',\n",
       " '9.36',\n",
       " '9.34',\n",
       " '9.31',\n",
       " '9.30',\n",
       " '9.29',\n",
       " '9.28',\n",
       " '9.22',\n",
       " '9.22',\n",
       " '9.20',\n",
       " '9.14',\n",
       " '9.12',\n",
       " '9.09',\n",
       " '9.05',\n",
       " '8.97',\n",
       " '8.94',\n",
       " '8.94',\n",
       " '8.93',\n",
       " '8.93',\n",
       " '8.83',\n",
       " '8.79',\n",
       " '8.79',\n",
       " '8.79',\n",
       " '8.78',\n",
       " '8.76',\n",
       " '8.74',\n",
       " '8.71',\n",
       " '8.56',\n",
       " '8.55',\n",
       " '8.52',\n",
       " '8.51',\n",
       " '8.48',\n",
       " '8.44',\n",
       " '8.26',\n",
       " '8.19',\n",
       " '8.13',\n",
       " '8.11',\n",
       " '8.03',\n",
       " '7.95',\n",
       " '7.83',\n",
       " '7.79',\n",
       " '7.77',\n",
       " '7.64',\n",
       " '7.38',\n",
       " '7.20',\n",
       " '6.72',\n",
       " '6.55',\n",
       " '6.43']"
      ]
     },
     "execution_count": 35,
     "metadata": {},
     "output_type": "execute_result"
    }
   ],
   "source": [
    "# point 50개 추출해서 list로 구성\n",
    "movie_point = [soup.find_all('td','point')[n].get_text() for n in range(0,50)]\n",
    "# movie_point = [soup.find_all('td','point')[n].text() for n in range(0,50)] 둘 다 가능\n",
    "movie_point"
   ]
  },
  {
   "cell_type": "code",
   "execution_count": null,
   "metadata": {},
   "outputs": [],
   "source": []
  },
  {
   "cell_type": "code",
   "execution_count": null,
   "metadata": {},
   "outputs": [],
   "source": []
  },
  {
   "cell_type": "code",
   "execution_count": null,
   "metadata": {},
   "outputs": [],
   "source": []
  },
  {
   "cell_type": "code",
   "execution_count": null,
   "metadata": {},
   "outputs": [],
   "source": []
  },
  {
   "cell_type": "code",
   "execution_count": null,
   "metadata": {},
   "outputs": [],
   "source": [
    "# 영화정보 크롤링 코드 정리"
   ]
  },
  {
   "cell_type": "code",
   "execution_count": null,
   "metadata": {},
   "outputs": [],
   "source": [
    "url_base = 'https://movie.naver.com/'\n",
    "url_sub = '/movie/sdb/rank/rmovie.nhn?sel=cur&date=20210324'\n",
    "url = urljoin(url_base,url_sub)\n",
    "# 페이지 요청 \n",
    "html = urlopen(url)\n",
    "\n",
    "# 데이터 파서에 저장\n",
    "soup = BeautifulSoup(html)\n",
    "\n",
    "# 날짜별로 랭킹 수가 상이할 수 있으므로 end를 추출해서 결정\n",
    "end = len(soup.find_all('td','point'))\n",
    "# title 50개 추출해서 list로 구성\n",
    "movie_name = [soup.find_all('div','tit5')[n].a.get_text() for n in range(0,end)]\n",
    "movie_name\n",
    "\n",
    "# point 50개 추출해서 list로 구성\n",
    "movie_point = [soup.find_all('td','point')[n].text for n in range(0,end)]\n",
    "movie_point"
   ]
  },
  {
   "cell_type": "code",
   "execution_count": 34,
   "metadata": {
    "ExecuteTime": {
     "end_time": "2021-03-24T06:38:33.618413Z",
     "start_time": "2021-03-24T06:38:33.607287Z"
    },
    "scrolled": true
   },
   "outputs": [
    {
     "data": {
      "text/plain": [
       "(['극장판 바이올렛 에버가든',\n",
       "  '반지의 제왕: 왕의 귀환',\n",
       "  '동주',\n",
       "  '반지의 제왕: 두 개의 탑',\n",
       "  '부활: 그 증거',\n",
       "  '극장판 귀멸의 칼날: 무한열차편',\n",
       "  '소울',\n",
       "  '반지의 제왕: 반지 원정대',\n",
       "  '나, 다니엘 블레이크',\n",
       "  '똥파리',\n",
       "  '러빙 빈센트',\n",
       "  '해피 투게더',\n",
       "  '라야와 마지막 드래곤',\n",
       "  '러브레터',\n",
       "  '극장판 쿠로코의 농구 라스트 게임',\n",
       "  '타오르는 여인의 초상',\n",
       "  '더 헌트',\n",
       "  '극장판 소드 아트 온라인 -오디널 스케일-',\n",
       "  '남매의 여름밤',\n",
       "  '러브 액츄얼리',\n",
       "  '중경삼림',\n",
       "  '아이',\n",
       "  '달라스 바이어스 클럽',\n",
       "  '너의 이름은.',\n",
       "  '화양연화',\n",
       "  '소공녀',\n",
       "  '더 포스트',\n",
       "  '찬실이는 복도 많지',\n",
       "  '당신, 거기 있어줄래요',\n",
       "  '세자매',\n",
       "  '분노',\n",
       "  '빅쇼트',\n",
       "  '러브 라이브! 더 스쿨 아이돌 무비',\n",
       "  '아비정전',\n",
       "  '허트 로커',\n",
       "  '콜드 워',\n",
       "  '클로저',\n",
       "  '국가부도의 날',\n",
       "  '하나와 앨리스',\n",
       "  '해리 포터와 불의 잔',\n",
       "  '날씨의 아이',\n",
       "  '미나리',\n",
       "  '마진 콜: 24시간, 조작된 진실',\n",
       "  '철벽선생',\n",
       "  '톰과 제리',\n",
       "  '미션 파서블',\n",
       "  '은혼',\n",
       "  '펭귄 하이웨이',\n",
       "  '쏘아올린 불꽃, 밑에서 볼까? 옆에서 볼까?',\n",
       "  '불한당: 나쁜 놈들의 세상'],\n",
       " ['9.49',\n",
       "  '9.38',\n",
       "  '9.37',\n",
       "  '9.36',\n",
       "  '9.34',\n",
       "  '9.31',\n",
       "  '9.30',\n",
       "  '9.29',\n",
       "  '9.28',\n",
       "  '9.22',\n",
       "  '9.22',\n",
       "  '9.20',\n",
       "  '9.14',\n",
       "  '9.12',\n",
       "  '9.09',\n",
       "  '9.05',\n",
       "  '8.97',\n",
       "  '8.94',\n",
       "  '8.94',\n",
       "  '8.93',\n",
       "  '8.93',\n",
       "  '8.83',\n",
       "  '8.79',\n",
       "  '8.79',\n",
       "  '8.79',\n",
       "  '8.78',\n",
       "  '8.76',\n",
       "  '8.74',\n",
       "  '8.71',\n",
       "  '8.56',\n",
       "  '8.55',\n",
       "  '8.52',\n",
       "  '8.51',\n",
       "  '8.48',\n",
       "  '8.44',\n",
       "  '8.26',\n",
       "  '8.19',\n",
       "  '8.13',\n",
       "  '8.11',\n",
       "  '8.03',\n",
       "  '7.95',\n",
       "  '7.83',\n",
       "  '7.79',\n",
       "  '7.77',\n",
       "  '7.64',\n",
       "  '7.38',\n",
       "  '7.20',\n",
       "  '6.72',\n",
       "  '6.55',\n",
       "  '6.43'])"
      ]
     },
     "execution_count": 34,
     "metadata": {},
     "output_type": "execute_result"
    }
   ],
   "source": [
    "movie_name, movie_point"
   ]
  },
  {
   "cell_type": "code",
   "execution_count": 37,
   "metadata": {
    "ExecuteTime": {
     "end_time": "2021-03-24T06:42:29.144078Z",
     "start_time": "2021-03-24T06:42:29.131980Z"
    }
   },
   "outputs": [
    {
     "data": {
      "text/plain": [
       "DatetimeIndex(['2020-12-18', '2020-12-19', '2020-12-20', '2020-12-21',\n",
       "               '2020-12-22', '2020-12-23', '2020-12-24', '2020-12-25',\n",
       "               '2020-12-26', '2020-12-27', '2020-12-28', '2020-12-29',\n",
       "               '2020-12-30', '2020-12-31', '2021-01-01', '2021-01-02',\n",
       "               '2021-01-03', '2021-01-04', '2021-01-05', '2021-01-06',\n",
       "               '2021-01-07', '2021-01-08', '2021-01-09', '2021-01-10',\n",
       "               '2021-01-11', '2021-01-12', '2021-01-13', '2021-01-14',\n",
       "               '2021-01-15', '2021-01-16', '2021-01-17', '2021-01-18',\n",
       "               '2021-01-19', '2021-01-20', '2021-01-21', '2021-01-22',\n",
       "               '2021-01-23', '2021-01-24', '2021-01-25', '2021-01-26',\n",
       "               '2021-01-27', '2021-01-28', '2021-01-29', '2021-01-30',\n",
       "               '2021-01-31', '2021-02-01', '2021-02-02', '2021-02-03',\n",
       "               '2021-02-04', '2021-02-05', '2021-02-06', '2021-02-07',\n",
       "               '2021-02-08', '2021-02-09', '2021-02-10', '2021-02-11',\n",
       "               '2021-02-12', '2021-02-13', '2021-02-14', '2021-02-15',\n",
       "               '2021-02-16', '2021-02-17', '2021-02-18', '2021-02-19',\n",
       "               '2021-02-20', '2021-02-21', '2021-02-22', '2021-02-23',\n",
       "               '2021-02-24', '2021-02-25', '2021-02-26', '2021-02-27',\n",
       "               '2021-02-28', '2021-03-01', '2021-03-02', '2021-03-03',\n",
       "               '2021-03-04', '2021-03-05', '2021-03-06', '2021-03-07',\n",
       "               '2021-03-08', '2021-03-09', '2021-03-10', '2021-03-11',\n",
       "               '2021-03-12', '2021-03-13', '2021-03-14', '2021-03-15',\n",
       "               '2021-03-16', '2021-03-17', '2021-03-18', '2021-03-19',\n",
       "               '2021-03-20', '2021-03-21', '2021-03-22', '2021-03-23'],\n",
       "              dtype='datetime64[ns]', freq='D')"
      ]
     },
     "execution_count": 37,
     "metadata": {},
     "output_type": "execute_result"
    }
   ],
   "source": [
    "# 수집 날짜 data 생성\n",
    "# pd.date_range('시작일',periods=생성날짜개수, fred ='D')\n",
    "date=pd.date_range('20201218',periods=96,freq='D')\n",
    "date"
   ]
  },
  {
   "cell_type": "code",
   "execution_count": null,
   "metadata": {},
   "outputs": [],
   "source": [
    "# 날짜 변경 가능하게 url 구성"
   ]
  },
  {
   "cell_type": "code",
   "execution_count": 41,
   "metadata": {
    "ExecuteTime": {
     "end_time": "2021-03-24T06:47:33.753517Z",
     "start_time": "2021-03-24T06:47:33.746790Z"
    }
   },
   "outputs": [],
   "source": [
    "url_base = 'https://movie.naver.com/'\n",
    "url_sub = '/movie/sdb/rank/rmovie.nhn?sel=cur&date={date}' # 문자열에 {변수명} 사용할 시 변수로 적용 가능\n",
    "url = urljoin(url_base,url_sub)\n",
    "\n",
    "today = date[17]\n",
    "url.format(date=urllib.parse.quote(today.strftime('%Y%m%d')))"
   ]
  },
  {
   "cell_type": "code",
   "execution_count": null,
   "metadata": {},
   "outputs": [],
   "source": [
    "# 저장할 초기 변수 생성\n",
    "movie_date = []\n",
    "movie_name = []\n",
    "movie_point = []"
   ]
  },
  {
   "cell_type": "code",
   "execution_count": null,
   "metadata": {},
   "outputs": [],
   "source": []
  }
 ],
 "metadata": {
  "kernelspec": {
   "display_name": "Python 3",
   "language": "python",
   "name": "python3"
  },
  "language_info": {
   "codemirror_mode": {
    "name": "ipython",
    "version": 3
   },
   "file_extension": ".py",
   "mimetype": "text/x-python",
   "name": "python",
   "nbconvert_exporter": "python",
   "pygments_lexer": "ipython3",
   "version": "3.8.5"
  },
  "toc": {
   "base_numbering": 1,
   "nav_menu": {},
   "number_sections": true,
   "sideBar": true,
   "skip_h1_title": false,
   "title_cell": "Table of Contents",
   "title_sidebar": "Contents",
   "toc_cell": false,
   "toc_position": {},
   "toc_section_display": true,
   "toc_window_display": false
  },
  "varInspector": {
   "cols": {
    "lenName": 16,
    "lenType": 16,
    "lenVar": 40
   },
   "kernels_config": {
    "python": {
     "delete_cmd_postfix": "",
     "delete_cmd_prefix": "del ",
     "library": "var_list.py",
     "varRefreshCmd": "print(var_dic_list())"
    },
    "r": {
     "delete_cmd_postfix": ") ",
     "delete_cmd_prefix": "rm(",
     "library": "var_list.r",
     "varRefreshCmd": "cat(var_dic_list()) "
    }
   },
   "types_to_exclude": [
    "module",
    "function",
    "builtin_function_or_method",
    "instance",
    "_Feature"
   ],
   "window_display": false
  }
 },
 "nbformat": 4,
 "nbformat_minor": 4
}
